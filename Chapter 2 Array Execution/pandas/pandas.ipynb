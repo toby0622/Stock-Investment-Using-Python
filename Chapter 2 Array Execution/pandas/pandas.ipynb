{
 "cells": [
  {
   "cell_type": "markdown",
   "metadata": {},
   "source": [
    "# pandas\n",
    "\n",
    "製作者：賴志宏   \n",
    "建立日期：2017.11.05  \n",
    "最後修改日期: 2020.08.23"
   ]
  },
  {
   "cell_type": "markdown",
   "metadata": {
    "collapsed": true
   },
   "source": [
    "* [official website: http://pandas.pydata.org/](http://pandas.pydata.org/)\n",
    "* [documentation: http://pandas.pydata.org/pandas-docs/stable/index.html](http://pandas.pydata.org/pandas-docs/stable/index.html)\n",
    "* [10-minute online tutorial: http://pandas.pydata.org/pandas-docs/stable/10min.html](http://pandas.pydata.org/pandas-docs/stable/10min.html)\n"
   ]
  },
  {
   "cell_type": "markdown",
   "metadata": {},
   "source": [
    "* Pandas套件是資料處理和分析工具\n",
    " * 我們可以將Pandas套件視為是一套Python程式版的Excel試算表工具，透過簡單的Python程式碼，就可以針對表格資料執行Excel試算表的功能。  \n",
    "* 名稱是源於\"Python and data analysis\" and \"panel data\"字首的縮寫\n",
    " * Pandas套件和貓熊（Panda Bears）並沒有任何關係\n",
    " * Pandas是一套使用Python語言開發的Python套件，完整包含NumPy、Scipy和Matplotlab套件的功能\n",
    " * 其主要目的是幫助開發者進行資料處理和分析，事實上，資料科學有80%的工作都是在進行資料處理。"
   ]
  },
  {
   "cell_type": "markdown",
   "metadata": {
    "collapsed": true
   },
   "source": [
    "### Numpy和Pandas 有什麼不同?\n",
    "1. Numpy是array形式的，沒有欄位名稱或標籤，且資料型態都必須是一樣的矩陣\n",
    "2. Pandas基於Numpy構建的，有列表的標籤，資料型態可以不同  \n",
    "<br />  \n",
    "* Pandas主要兩個數據結構：\n",
    " * Series：為一維串列，資料型態可以不同\n",
    " * DataFrame：為二維串列，資料型態可以不同，表格即為 DataFrame 的典型結構\n",
    " * Panel：為三維串列"
   ]
  },
  {
   "cell_type": "markdown",
   "metadata": {},
   "source": [
    "## Numpy 與 pandas 的轉換\n",
    "\n",
    "* pd.DataFrame(np陣列）\n",
    "* np.array(df的物件)       註：Series, DataFrame, Panel 皆可\n"
   ]
  },
  {
   "cell_type": "code",
   "execution_count": 25,
   "metadata": {},
   "outputs": [
    {
     "name": "stdout",
     "output_type": "stream",
     "text": [
      "    a   b   c   d\n",
      "0  89  29  71  55\n",
      "1  26  82  16  26\n",
      "2  80  13  78  42\n",
      "\n",
      " [[89 29 71 55]\n",
      " [26 82 16 26]\n",
      " [80 13 78 42]]\n"
     ]
    }
   ],
   "source": [
    "import numpy as np\n",
    "import pandas as pd\n",
    "\n",
    "df = pd.DataFrame(np.random.randint(1, 100,(3, 4)), columns = list('abcd'))  # 產生 3*4 陣列，值為 1 - 100\n",
    "print(df)\n",
    "\n",
    "na = np.array(df)\n",
    "print('\\n', na)\n",
    "\n"
   ]
  },
  {
   "cell_type": "markdown",
   "metadata": {},
   "source": [
    "## Series: pandas 的一維資料"
   ]
  },
  {
   "cell_type": "code",
   "execution_count": 14,
   "metadata": {},
   "outputs": [
    {
     "name": "stdout",
     "output_type": "stream",
     "text": [
      "0    12\n",
      "1    29\n",
      "2    72\n",
      "3     4\n",
      "4     8\n",
      "5    10\n",
      "dtype: int64\n",
      "4\n"
     ]
    }
   ],
   "source": [
    "# 沒有設定欄位名稱，會使用索引值作為欄位名稱\n",
    "\n",
    "import pandas as pd\n",
    "\n",
    "s = pd.Series([12, 29, 72, 4, 8, 10]) \n",
    "print(s)  \n",
    "print(s[3])"
   ]
  },
  {
   "cell_type": "code",
   "execution_count": 3,
   "metadata": {},
   "outputs": [
    {
     "name": "stdout",
     "output_type": "stream",
     "text": [
      "蘋果    15\n",
      "橘子    33\n",
      "梨子    45\n",
      "櫻桃    55\n",
      "dtype: int64\n",
      "Index(['蘋果', '橘子', '梨子', '櫻桃'], dtype='object')\n",
      "[15 33 45 55]\n"
     ]
    }
   ],
   "source": [
    "# 建立自訂索引的Series物件\n",
    "import pandas as pd\n",
    "\n",
    "fruits = [\"蘋果\", \"橘子\", \"梨子\", \"櫻桃\"]\n",
    "quantities = [15, 33, 45, 55]\n",
    "s = pd.Series(quantities, index=fruits) \n",
    "print(s)\n",
    "print(s.index)    # 查看索引\n",
    "print(s.values)   # 查看值"
   ]
  },
  {
   "cell_type": "code",
   "execution_count": 31,
   "metadata": {},
   "outputs": [
    {
     "name": "stdout",
     "output_type": "stream",
     "text": [
      "s2:\n",
      " 蘋果    18\n",
      "橘子    36\n",
      "梨子    48\n",
      "櫻桃    58\n",
      "dtype: int64\n",
      "\n",
      "s+p:\n",
      " 蘋果    26\n",
      "橘子    49\n",
      "梨子    66\n",
      "櫻桃    87\n",
      "dtype: int64\n",
      "\n",
      "總計= 228\n"
     ]
    }
   ],
   "source": [
    "# 2個 Series物件的運算\n",
    "import pandas as pd\n",
    "\n",
    "fruits = [\"蘋果\", \"橘子\", \"梨子\", \"櫻桃\"]\n",
    "s = pd.Series([15, 33, 45, 55], index=fruits) \n",
    "s2 = s + 3\n",
    "print('s2:\\n', s2)\n",
    "print()\n",
    "p = pd.Series([11, 16, 21, 32], index=fruits) \n",
    "print('s+p:\\n', s + p)\n",
    "print()\n",
    "print(\"總計=\", sum(s + p))"
   ]
  },
  {
   "cell_type": "markdown",
   "metadata": {},
   "source": [
    "### Series的運算"
   ]
  },
  {
   "cell_type": "code",
   "execution_count": 39,
   "metadata": {},
   "outputs": [
    {
     "name": "stdout",
     "output_type": "stream",
     "text": [
      "橘子= 33\n",
      "\n",
      "\n",
      "橘子    33\n",
      "梨子    45\n",
      "櫻桃    55\n",
      "dtype: int64\n",
      "\n",
      "\n",
      "四則運算：\n",
      " 蘋果     51\n",
      "橘子    105\n",
      "梨子    141\n",
      "櫻桃    171\n",
      "dtype: int64\n",
      "\n",
      "sin:\n",
      " 蘋果    0.650288\n",
      "橘子    0.999912\n",
      "梨子    0.850904\n",
      "櫻桃   -0.999755\n",
      "dtype: float64\n",
      "\n",
      "sum: 148\n"
     ]
    }
   ],
   "source": [
    "# Series的運算\n",
    "\n",
    "import numpy as np\n",
    "import pandas as pd\n",
    "\n",
    "fruits = [\"蘋果\", \"橘子\", \"梨子\", \"櫻桃\"]\n",
    "s = pd.Series([15, 33, 45, 55], index=fruits) \n",
    "print(\"橘子=\", s[\"橘子\"])\n",
    "print()\n",
    "\n",
    "print()\n",
    "print(s[[\"橘子\",\"梨子\",\"櫻桃\"]])   # 要用 2個中括號\n",
    "print()\n",
    "print('\\n四則運算：\\n', (s+2)*3)     # 四則運算\n",
    "\n",
    "print('\\nsin:\\n', s.apply(np.sin))   # 執行numpy的函式時，使用apply\n",
    "\n",
    "print('\\nsum:', sum(s))"
   ]
  },
  {
   "cell_type": "markdown",
   "metadata": {},
   "source": [
    "### Series資料型態"
   ]
  },
  {
   "cell_type": "code",
   "execution_count": 6,
   "metadata": {},
   "outputs": [
    {
     "name": "stdout",
     "output_type": "stream",
     "text": [
      "0      1\n",
      "1    abc\n",
      "2      6\n",
      "3    NaN\n",
      "4     44\n",
      "5      1\n",
      "dtype: object\n"
     ]
    }
   ],
   "source": [
    "# 一維陣列（Series)，資料型態可以不同\n",
    "import pandas as pd\n",
    "import numpy as np\n",
    "s = pd.Series([1,\"abc\",\"6\",np.nan,44,1])\n",
    "print(s)"
   ]
  },
  {
   "cell_type": "code",
   "execution_count": 25,
   "metadata": {},
   "outputs": [
    {
     "name": "stdout",
     "output_type": "stream",
     "text": [
      "橘子= 33\n",
      "\n",
      "type(s[\"橘子\"]: <class 'numpy.int64'>\n",
      "type(s[[\"橘子\"]]: <class 'pandas.core.series.Series'>\n",
      "\n",
      "int64\n",
      "int64\n"
     ]
    }
   ],
   "source": [
    "# 使用索引取出資料和資料型別\n",
    "import numpy as np\n",
    "import pandas as pd\n",
    "\n",
    "fruits = [\"蘋果\", \"橘子\", \"梨子\", \"櫻桃\"]\n",
    "s = pd.Series([15, 33, 45, 55], index=fruits) \n",
    "print(\"橘子=\", s[\"橘子\"])\n",
    "print()\n",
    "\n",
    "print('type(s[\"橘子\"]:', type(s[\"橘子\"]))   # 一個和2個[]，意義不同\n",
    "print('type(s[[\"橘子\"]]:', type(s[[\"橘子\"]]))\n",
    "\n",
    "print()\n",
    "print(s[\"橘子\"].dtype)\n",
    "print(s[[\"橘子\"]].dtype)"
   ]
  },
  {
   "cell_type": "markdown",
   "metadata": {},
   "source": [
    "### 基本資訊的常用屬性和方法\n",
    "\n",
    "* shape：顯示列數（與欄數）\n",
    "    * df.shape\n",
    "* index：列索引\n",
    "* columns:DataFrames 的欄索引 (Series無此方法) \n",
    "* head(n)：傳回前幾列的資料，預設為5列\n",
    "* info()：DataFrame的詳細資料 (Series無此方法) \n",
    "* describe()：（各欄的）資料的描述統計\n",
    "* len(Series或DataFrame物件)：資料筆數"
   ]
  },
  {
   "cell_type": "code",
   "execution_count": 52,
   "metadata": {},
   "outputs": [
    {
     "name": "stdout",
     "output_type": "stream",
     "text": [
      "shape: (6,)\n",
      "index: Index(['A', 'B', 'C', 'D', 'E', 'F'], dtype='object')\n",
      "head():\n",
      " A    5\n",
      "B    8\n",
      "C    7\n",
      "D    7\n",
      "E    9\n",
      "dtype: int32\n",
      "describe():\n",
      " count    6.000000\n",
      "mean     6.833333\n",
      "std      1.602082\n",
      "min      5.000000\n",
      "25%      5.500000\n",
      "50%      7.000000\n",
      "75%      7.750000\n",
      "max      9.000000\n",
      "dtype: float64\n",
      "\n",
      "len: 6\n"
     ]
    }
   ],
   "source": [
    "import numpy as np\n",
    "import pandas as pd\n",
    "\n",
    "ar1 = pd.Series(np.random.randint(5, 10, 6), index = list(\"ABCDEF\")) # 產生產生5到10(不含)的整數6個的陣列，索引使用ABCDEF\n",
    "print('shape:', ar1.shape)\n",
    "print('index:', ar1.index)\n",
    "print(\"head():\\n\", ar1.head())\n",
    "print('describe():\\n', ar1.describe())\n",
    "\n",
    "print('\\nlen:', len(ar1))\n"
   ]
  },
  {
   "cell_type": "markdown",
   "metadata": {},
   "source": [
    "# DataFrame"
   ]
  },
  {
   "cell_type": "markdown",
   "metadata": {
    "collapsed": true
   },
   "source": [
    "* 資料結構類似表格或是Excel試算表，可以設定欄與列（索引）的名稱\n",
    "    * 沒有設定時，會以0, 1, 2, ...的數列當作標題\n",
    "* 就是擁有索引的Series物件所組成的Python字典，也就是說字典的每一個鍵的值都是一個Series物件\n",
    "* 使用pandas.DataFrame()函式，就可以建立DataFrame物件\n",
    "* 每一欄位是固定資料型態，不同欄位可以是不同的資料型態"
   ]
  },
  {
   "cell_type": "code",
   "execution_count": 40,
   "metadata": {},
   "outputs": [
    {
     "name": "stdout",
     "output_type": "stream",
     "text": [
      "   name  population city\n",
      "0   中正區      159598  台北市\n",
      "1   板橋區      551452  新北市\n",
      "2   桃園區      441287  桃園市\n",
      "3   北屯區      275207  台中市\n",
      "4   安南區      192327  台南市\n",
      "5   三民區      343203  高雄市\n",
      "6   大安區      309835  台北市\n",
      "7   永和區      222531  新北市\n",
      "8   八德區      198473  桃園市\n",
      "9   前鎮區      189623  高雄市\n",
      "10  鳳山區      359125  高雄市\n",
      "11  信義區      225561  台北市\n",
      "12  新店區      302070  新北市\n",
      "\n",
      "<class 'pandas.core.frame.DataFrame'>\n",
      "RangeIndex: 13 entries, 0 to 12\n",
      "Data columns (total 3 columns):\n",
      "name          13 non-null object\n",
      "population    13 non-null int64\n",
      "city          13 non-null object\n",
      "dtypes: int64(1), object(2)\n",
      "memory usage: 440.0+ bytes\n",
      "None\n"
     ]
    }
   ],
   "source": [
    "import pandas as pd\n",
    "\n",
    "dists = {\"name\": [\"中正區\", \"板橋區\", \"桃園區\", \"北屯區\", \n",
    "                   \"安南區\", \"三民區\", \"大安區\", \"永和區\", \n",
    "                   \"八德區\", \"前鎮區\", \"鳳山區\", \n",
    "                   \"信義區\", \"新店區\"],\n",
    "         \"population\": [159598, 551452, 441287, 275207,\n",
    "                        192327, 343203, 309835, 222531,\n",
    "                        198473, 189623, 359125, \n",
    "                        225561, 302070],\n",
    "         \"city\": [\"台北市\", \"新北市\", \"桃園市\", \"台中市\",\n",
    "                  \"台南市\", \"高雄市\", \"台北市\", \"新北市\",\n",
    "                  \"桃園市\", \"高雄市\", \"高雄市\",\n",
    "                  \"台北市\", \"新北市\"]}\n",
    "df = pd.DataFrame(dists)\n",
    "\n",
    "print(df)\n",
    "\n",
    "print()\n",
    "\n",
    "print(df.info())"
   ]
  },
  {
   "cell_type": "code",
   "execution_count": 41,
   "metadata": {},
   "outputs": [
    {
     "name": "stdout",
     "output_type": "stream",
     "text": [
      "     0   1   2   3\n",
      "0    9  82  28  56\n",
      "1   89   9  82  80\n",
      "2  100  43  78  23\n"
     ]
    }
   ],
   "source": [
    "# 未設定列（索引）與欄（行）的標題時，會以0, 1, 2, ...的數列當作標題\n",
    "\n",
    "import numpy as np\n",
    "import pandas as pd\n",
    "\n",
    "v = np.random.randint(1, 101, (3,4))#  產生5到10(不含)的整數3*4個的二維陣列\n",
    "df = pd.DataFrame(v)\n",
    "\n",
    "print(df)"
   ]
  },
  {
   "cell_type": "code",
   "execution_count": 18,
   "metadata": {},
   "outputs": [
    {
     "name": "stdout",
     "output_type": "stream",
     "text": [
      "   name  population city\n",
      "0   中正區      159598  台北市\n",
      "1   板橋區      551452  新北市\n",
      "2   桃園區      441287  桃園市\n",
      "3   北屯區      275207  台中市\n",
      "4   安南區      192327  台南市\n",
      "5   三民區      343203  高雄市\n",
      "6   大安區      309835  台北市\n",
      "7   永和區      222531  新北市\n",
      "8   八德區      198473  桃園市\n",
      "9   前鎮區      189623  高雄市\n",
      "10  鳳山區      359125  高雄市\n",
      "11  信義區      225561  台北市\n",
      "12  新店區      302070  新北市\n",
      "\n",
      "shape: (13, 3)\n",
      "\n",
      "index: RangeIndex(start=0, stop=13, step=1)\n",
      "\n",
      "columns: Index(['name', 'population', 'city'], dtype='object')\n",
      "\n",
      "head():\n",
      "   name  population city\n",
      "0  中正區      159598  台北市\n",
      "1  板橋區      551452  新北市\n",
      "2  桃園區      441287  桃園市\n",
      "3  北屯區      275207  台中市\n",
      "4  安南區      192327  台南市\n",
      "\n",
      "describe():\n",
      "           population\n",
      "count      13.000000\n",
      "mean   290022.461538\n",
      "std    113031.540213\n",
      "min    159598.000000\n",
      "25%    198473.000000\n",
      "50%    275207.000000\n",
      "75%    343203.000000\n",
      "max    551452.000000\n"
     ]
    }
   ],
   "source": [
    "# 設定DataFrame 物件\n",
    "# 將DataFrame 物件儲存成HTML格式，並儲存到檔案\n",
    "import pandas as pd\n",
    "\n",
    "dists = {\"name\": [\"中正區\", \"板橋區\", \"桃園區\", \"北屯區\", \n",
    "                   \"安南區\", \"三民區\", \"大安區\", \"永和區\", \n",
    "                   \"八德區\", \"前鎮區\", \"鳳山區\", \n",
    "                   \"信義區\", \"新店區\"],\n",
    "         \"population\": [159598, 551452, 441287, 275207,\n",
    "                        192327, 343203, 309835, 222531,\n",
    "                        198473, 189623, 359125, \n",
    "                        225561, 302070],\n",
    "         \"city\": [\"台北市\", \"新北市\", \"桃園市\", \"台中市\",\n",
    "                  \"台南市\", \"高雄市\", \"台北市\", \"新北市\",\n",
    "                  \"桃園市\", \"高雄市\", \"高雄市\",\n",
    "                  \"台北市\", \"新北市\"]}\n",
    "df = pd.DataFrame(dists) \n",
    "print(df)     # 欄位標題與值沒有對齊，書出道 HTML 檔案會比較整齊\n",
    "# df.to_html(\"text\\section.html\")   # 將DataFrame 物件儲存成HTML格式，並儲存到檔案\n",
    "\n",
    "print('\\nshape:', df.shape)\n",
    "print('\\nindex:', df.index)\n",
    "print('\\ncolumns:', df.columns)\n",
    "print(\"\\nhead():\\n\", df.head())\n",
    "print('\\ndescribe():\\n', df.describe())"
   ]
  },
  {
   "cell_type": "code",
   "execution_count": null,
   "metadata": {
    "collapsed": true
   },
   "outputs": [],
   "source": [
    "# 上述程式 df.to_html(\"text\\section.html\")產生的 HTML\n",
    "<table border=\"1\" class=\"dataframe\">\n",
    "  <thead>\n",
    "    <tr style=\"text-align: right;\">\n",
    "      <th></th>\n",
    "      <th>city</th>\n",
    "      <th>name</th>\n",
    "      <th>population</th>\n",
    "    </tr>\n",
    "  </thead>\n",
    "  <tbody>\n",
    "    <tr>\n",
    "      <th>0</th>\n",
    "      <td>台北市</td>\n",
    "      <td>中正區</td>\n",
    "      <td>159598</td>\n",
    "    </tr>\n",
    "    <tr>\n",
    "      <th>1</th>\n",
    "      <td>新北市</td>\n",
    "      <td>板橋區</td>\n",
    "      <td>551452</td>\n",
    "    </tr>\n",
    "    <tr>\n",
    "      <th>2</th>\n",
    "      <td>桃園市</td>\n",
    "      <td>桃園區</td>\n",
    "      <td>441287</td>\n",
    "    </tr>\n",
    "    <tr>\n",
    "      <th>3</th>\n",
    "      <td>台中市</td>\n",
    "      <td>北屯區</td>\n",
    "      <td>275207</td>\n",
    "    </tr>\n",
    "    <tr>\n",
    "      <th>4</th>\n",
    "      <td>台南市</td>\n",
    "      <td>安南區</td>\n",
    "      <td>192327</td>\n",
    "    </tr>\n",
    "    <tr>\n",
    "      <th>5</th>\n",
    "      <td>高雄市</td>\n",
    "      <td>三民區</td>\n",
    "      <td>343203</td>\n",
    "    </tr>\n",
    "    <tr>\n",
    "      <th>6</th>\n",
    "      <td>台北市</td>\n",
    "      <td>大安區</td>\n",
    "      <td>309835</td>\n",
    "    </tr>\n",
    "    <tr>\n",
    "      <th>7</th>\n",
    "      <td>新北市</td>\n",
    "      <td>永和區</td>\n",
    "      <td>222531</td>\n",
    "    </tr>\n",
    "    <tr>\n",
    "      <th>8</th>\n",
    "      <td>桃園市</td>\n",
    "      <td>八德區</td>\n",
    "      <td>198473</td>\n",
    "    </tr>\n",
    "    <tr>\n",
    "      <th>9</th>\n",
    "      <td>高雄市</td>\n",
    "      <td>前鎮區</td>\n",
    "      <td>189623</td>\n",
    "    </tr>\n",
    "    <tr>\n",
    "      <th>10</th>\n",
    "      <td>高雄市</td>\n",
    "      <td>鳳山區</td>\n",
    "      <td>359125</td>\n",
    "    </tr>\n",
    "    <tr>\n",
    "      <th>11</th>\n",
    "      <td>台北市</td>\n",
    "      <td>信義區</td>\n",
    "      <td>225561</td>\n",
    "    </tr>\n",
    "    <tr>\n",
    "      <th>12</th>\n",
    "      <td>新北市</td>\n",
    "      <td>新店區</td>\n",
    "      <td>302070</td>\n",
    "    </tr>\n",
    "  </tbody>\n",
    "</table>"
   ]
  },
  {
   "cell_type": "code",
   "execution_count": null,
   "metadata": {
    "collapsed": true
   },
   "outputs": [],
   "source": [
    "import pandas as pd    # 匯入Pandas 套件時命名為「pd」\n",
    "\n",
    "建立DataFrame 的語法為\n",
    "1. 以擁有相同數目元素串列的字典建立DataFrame 資料：\n",
    "   語法：pd.DataFrame(字典的鍵1:[串列1], 字典的鍵2:[串列2],...)\n",
    "   例如建立一個 3 位學生，每人有 4 科成績的 DataFrame\n",
    "   df = pd.DataFrame({\"John\":[90,85,88,92], \"Tom\":[80,70,87,60], \"Richard\":[100,95,98,90]})\n",
    "2. 以二維的串列及自行指定的行及列標題建立DataFrame 資料：\n",
    "   df = pd.DataFrame(資料[, columns=行標題串列, index=列標題串列])\n",
    "   註：行標題串列和列標題串列可以省略\n",
    "   df = pd.DataFrame([[90,85,88,92], [80,70,87,60], [100,95,98,90]], columns=['John', 'Tom', 'Richard'], index=['Math', 'Chinese', 'Physics', 'Programming'])\n",
    "   或是：\n",
    "   datas = [[90,85,88,92], [80,70,87,60], [100,95,98,90]]\n",
    "   cl=['John', 'Tom', 'Richard']\n",
    "   idx=['Math', 'Chinese', 'Physics', 'Programming']\n",
    "   df = pd.DataFrame(datas, columns=cl, index=idx)\n",
    "\n",
    "省略行或列的標題時，會以數字當作索引"
   ]
  },
  {
   "cell_type": "code",
   "execution_count": 47,
   "metadata": {},
   "outputs": [
    {
     "name": "stdout",
     "output_type": "stream",
     "text": [
      "         Math  Chinese  Physics  Programming\n",
      "John       90       85       88           92\n",
      "Tom        80       70       87           60\n",
      "Richard   100       95       98           90\n",
      "\n",
      "         Math  Chinese  Physics  Programming\n",
      "John       90       85       88           92\n",
      "Tom        80       70       87           60\n",
      "Richard   100       95       98           90\n"
     ]
    }
   ],
   "source": [
    "import pandas as pd\n",
    "df1 = pd.DataFrame([[90,85,88,92], [80,70,87,60], [100,95,98,90]], \n",
    "    columns=['Math', 'Chinese', 'Physics', 'Programming'], \n",
    "    index=['John', 'Tom', 'Richard'])\n",
    "\n",
    "datas = [[90,85,88,92], [80,70,87,60], [100,95,98,90]]\n",
    "idx=['John', 'Tom', 'Richard']\n",
    "cl=['Math', 'Chinese', 'Physics', 'Programming']\n",
    "df2 = pd.DataFrame(datas, columns=cl, index=idx)\n",
    "\n",
    "print(df1)\n",
    "print()\n",
    "print(df2)"
   ]
  },
  {
   "cell_type": "code",
   "execution_count": null,
   "metadata": {},
   "outputs": [],
   "source": []
  },
  {
   "cell_type": "code",
   "execution_count": 5,
   "metadata": {},
   "outputs": [
    {
     "name": "stdout",
     "output_type": "stream",
     "text": [
      "df:\n",
      "            name  population city\n",
      "first       中正區      159598  台北市\n",
      "second      板橋區      551452  新北市\n",
      "third       桃園區      441287  桃園市\n",
      "fourth      北屯區      275207  台中市\n",
      "fifth       安南區      192327  台南市\n",
      "sixth       三民區      343203  高雄市\n",
      "seventh     大安區      309835  台北市\n",
      "eigth       永和區      222531  新北市\n",
      "ninth       八德區      198473  桃園市\n",
      "tenth       前鎮區      189623  高雄市\n",
      "eleventh    鳳山區      359125  高雄市\n",
      "twelvth     信義區      225561  台北市\n",
      "thirteenth  新店區      302070  新北市\n",
      "\n",
      "df2:\n",
      "            name  population city\n",
      "first       中正區      159598  台北市\n",
      "second      板橋區      551452  新北市\n",
      "third       桃園區      441287  桃園市\n",
      "fourth      北屯區      275207  台中市\n",
      "fifth       安南區      192327  台南市\n",
      "sixth       三民區      343203  高雄市\n",
      "seventh     大安區      309835  台北市\n",
      "eigth       永和區      222531  新北市\n",
      "ninth       八德區      198473  桃園市\n",
      "tenth       前鎮區      189623  高雄市\n",
      "eleventh    鳳山區      359125  高雄市\n",
      "twelvth     信義區      225561  台北市\n",
      "thirteenth  新店區      302070  新北市\n"
     ]
    }
   ],
   "source": [
    "# 建立DataFrame之後再加上索引標題 .index =索引標題串列\n",
    "\n",
    "import pandas as pd\n",
    "\n",
    "dists = {\"name\": [\"中正區\", \"板橋區\", \"桃園區\", \"北屯區\", \n",
    "                   \"安南區\", \"三民區\", \"大安區\", \"永和區\", \n",
    "                   \"八德區\", \"前鎮區\", \"鳳山區\", \n",
    "                   \"信義區\", \"新店區\"],\n",
    "         \"population\": [159598, 551452, 441287, 275207,\n",
    "                        192327, 343203, 309835, 222531,\n",
    "                        198473, 189623, 359125, \n",
    "                        225561, 302070],\n",
    "         \"city\": [\"台北市\", \"新北市\", \"桃園市\", \"台中市\",\n",
    "                  \"台南市\", \"高雄市\", \"台北市\", \"新北市\",\n",
    "                  \"桃園市\", \"高雄市\", \"高雄市\",\n",
    "                  \"台北市\", \"新北市\"]}\n",
    "         \n",
    "ordinals =[\"first\", \"second\", \"third\", \"fourth\", \"fifth\",\n",
    "           \"sixth\", \"seventh\", \"eigth\", \"ninth\", \"tenth\",\n",
    "           \"eleventh\", \"twelvth\", \"thirteenth\"]         \n",
    "df = pd.DataFrame(dists, index=ordinals) \n",
    "print('df:\\n', df)  \n",
    "# df.to_html(\"Ch9_2_1a.html\")\n",
    "\n",
    "df2 = pd.DataFrame(dists)\n",
    "df2.index = ordinals\n",
    "print('\\ndf2:\\n', df2) "
   ]
  },
  {
   "cell_type": "code",
   "execution_count": 46,
   "metadata": {},
   "outputs": [
    {
     "name": "stdout",
     "output_type": "stream",
     "text": [
      "    0   1   2   3\n",
      "0  84  11  21  19\n",
      "1  49  51  13  96\n",
      "2   5  26  49  32\n",
      "\n",
      "    甲   乙   丙   丁\n",
      "A  84  11  21  19\n",
      "B  49  51  13  96\n",
      "C   5  26  49  32\n"
     ]
    }
   ],
   "source": [
    "#  建立DataFrame之後再加上索引標題\n",
    "\n",
    "import numpy as np\n",
    "import pandas as pd\n",
    "\n",
    "v = np.random.randint(1, 101, (3,4))#  產生5到10(不含)的整數3*4個的二維陣列\n",
    "\n",
    "df = pd.DataFrame(v)\n",
    "print(df)\n",
    "print()\n",
    "\n",
    "df.index = list('ABC')   # df.index = ('A', 'B', 'C')  \n",
    "df.columns = list('甲乙丙丁')\n",
    "print(df)"
   ]
  },
  {
   "cell_type": "code",
   "execution_count": 47,
   "metadata": {},
   "outputs": [
    {
     "name": "stdout",
     "output_type": "stream",
     "text": [
      "         Math  Chinese  Physics  Programming\n",
      "John       90       85       88           92\n",
      "Tom        80       70       87           60\n",
      "Richard   100       95       98           90\n",
      "\n",
      "         Math  Chinese  Physics  Programming\n",
      "John       90       85       88           92\n",
      "Tom        80       70       87           60\n",
      "Richard   100       95       98           90\n"
     ]
    }
   ],
   "source": [
    "import pandas as pd\n",
    "df1 = pd.DataFrame([[90,85,88,92], [80,70,87,60], [100,95,98,90]], \n",
    "    columns=['Math', 'Chinese', 'Physics', 'Programming'], \n",
    "    index=['John', 'Tom', 'Richard'])\n",
    "\n",
    "datas = [[90,85,88,92], [80,70,87,60], [100,95,98,90]]\n",
    "idx=['John', 'Tom', 'Richard']\n",
    "cl=['Math', 'Chinese', 'Physics', 'Programming']\n",
    "df2 = pd.DataFrame(datas, columns=cl, index=idx)\n",
    "\n",
    "print(df1)\n",
    "print()\n",
    "print(df2)"
   ]
  },
  {
   "cell_type": "code",
   "execution_count": 49,
   "metadata": {},
   "outputs": [
    {
     "name": "stdout",
     "output_type": "stream",
     "text": [
      "    name  population city\n",
      "台北市  中正區      159598  台北市\n",
      "新北市  板橋區      551452  新北市\n",
      "桃園市  桃園區      441287  桃園市\n",
      "台中市  北屯區      275207  台中市\n",
      "台南市  安南區      192327  台南市\n",
      "高雄市  三民區      343203  高雄市\n",
      "台北市  大安區      309835  台北市\n",
      "新北市  永和區      222531  新北市\n",
      "桃園市  八德區      198473  桃園市\n",
      "高雄市  前鎮區      189623  高雄市\n",
      "高雄市  鳳山區      359125  高雄市\n",
      "台北市  信義區      225561  台北市\n",
      "新北市  新店區      302070  新北市\n",
      "\n",
      "    name  population\n",
      "台北市  中正區      159598\n",
      "新北市  板橋區      551452\n",
      "桃園市  桃園區      441287\n",
      "台中市  北屯區      275207\n",
      "台南市  安南區      192327\n",
      "高雄市  三民區      343203\n",
      "台北市  大安區      309835\n",
      "新北市  永和區      222531\n",
      "桃園市  八德區      198473\n",
      "高雄市  前鎮區      189623\n",
      "高雄市  鳳山區      359125\n",
      "台北市  信義區      225561\n",
      "新北市  新店區      302070\n"
     ]
    }
   ],
   "source": [
    "# 使用現有欄位作為索引，有兩種作法，欄位重複與否不相同\n",
    "\n",
    "import pandas as pd\n",
    "\n",
    "dists = {\"name\": [\"中正區\", \"板橋區\", \"桃園區\", \"北屯區\", \n",
    "                   \"安南區\", \"三民區\", \"大安區\", \"永和區\", \n",
    "                   \"八德區\", \"前鎮區\", \"鳳山區\", \n",
    "                   \"信義區\", \"新店區\"],\n",
    "         \"population\": [159598, 551452, 441287, 275207,\n",
    "                        192327, 343203, 309835, 222531,\n",
    "                        198473, 189623, 359125, \n",
    "                        225561, 302070],\n",
    "         \"city\": [\"台北市\", \"新北市\", \"桃園市\", \"台中市\",\n",
    "                  \"台南市\", \"高雄市\", \"台北市\", \"新北市\",\n",
    "                  \"桃園市\", \"高雄市\", \"高雄市\",\n",
    "                  \"台北市\", \"新北市\"]}\n",
    "                \n",
    "df = pd.DataFrame(dists, index=dists['city'])   # 原來的 city欄位保留，並且複製一份city欄位當作 index\n",
    "print(df)\n",
    "print()\n",
    "\n",
    "df = pd.DataFrame(dists, columns = ['name', 'population'], index=dists['city'])  # 不使用原來的 city欄位，將city欄位當作 index\n",
    "print(df)\n",
    "\n",
    "\n"
   ]
  },
  {
   "cell_type": "code",
   "execution_count": 6,
   "metadata": {},
   "outputs": [
    {
     "name": "stdout",
     "output_type": "stream",
     "text": [
      "原來的:\n",
      "           name  population city\n",
      "first       中正區      159598  台北市\n",
      "second      板橋區      551452  新北市\n",
      "third       桃園區      441287  桃園市\n",
      "fourth      北屯區      275207  台中市\n",
      "fifth       安南區      192327  台南市\n",
      "sixth       三民區      343203  高雄市\n",
      "seventh     大安區      309835  台北市\n",
      "eigth       永和區      222531  新北市\n",
      "ninth       八德區      198473  桃園市\n",
      "tenth       前鎮區      189623  高雄市\n",
      "eleventh    鳳山區      359125  高雄市\n",
      "twelvth     信義區      225561  台北市\n",
      "thirteenth  新店區      302070  新北市\n",
      "重新設定的:\n",
      "           name city  population\n",
      "first       中正區  台北市      159598\n",
      "second      板橋區  新北市      551452\n",
      "third       桃園區  桃園市      441287\n",
      "fourth      北屯區  台中市      275207\n",
      "fifth       安南區  台南市      192327\n",
      "sixth       三民區  高雄市      343203\n",
      "seventh     大安區  台北市      309835\n",
      "eigth       永和區  新北市      222531\n",
      "ninth       八德區  桃園市      198473\n",
      "tenth       前鎮區  高雄市      189623\n",
      "eleventh    鳳山區  高雄市      359125\n",
      "twelvth     信義區  台北市      225561\n",
      "thirteenth  新店區  新北市      302070\n",
      "\n",
      "           population    name city\n",
      "first             中正區  159598  台北市\n",
      "second            板橋區  551452  新北市\n",
      "third             桃園區  441287  桃園市\n",
      "fourth            北屯區  275207  台中市\n",
      "fifth             安南區  192327  台南市\n",
      "sixth             三民區  343203  高雄市\n",
      "seventh           大安區  309835  台北市\n",
      "eigth             永和區  222531  新北市\n",
      "ninth             八德區  198473  桃園市\n",
      "tenth             前鎮區  189623  高雄市\n",
      "eleventh          鳳山區  359125  高雄市\n",
      "twelvth           信義區  225561  台北市\n",
      "thirteenth        新店區  302070  新北市\n"
     ]
    }
   ],
   "source": [
    "# 重新指定DataFrame物件的欄位順序 Ch9_2_1b.py\n",
    "\n",
    "import pandas as pd\n",
    "\n",
    "dists = {\"name\": [\"中正區\", \"板橋區\", \"桃園區\", \"北屯區\", \n",
    "                   \"安南區\", \"三民區\", \"大安區\", \"永和區\", \n",
    "                   \"八德區\", \"前鎮區\", \"鳳山區\", \n",
    "                   \"信義區\", \"新店區\"],\n",
    "         \"population\": [159598, 551452, 441287, 275207,\n",
    "                        192327, 343203, 309835, 222531,\n",
    "                        198473, 189623, 359125, \n",
    "                        225561, 302070],\n",
    "         \"city\": [\"台北市\", \"新北市\", \"桃園市\", \"台中市\",\n",
    "                  \"台南市\", \"高雄市\", \"台北市\", \"新北市\",\n",
    "                  \"桃園市\", \"高雄市\", \"高雄市\",\n",
    "                  \"台北市\", \"新北市\"]}\n",
    "         \n",
    "ordinals =[\"first\", \"second\", \"third\", \"fourth\", \"fifth\",\n",
    "           \"sixth\", \"seventh\", \"eigth\", \"ninth\", \"tenth\",\n",
    "           \"eleventh\", \"twelvth\", \"thirteenth\"]         \n",
    "\n",
    "df1 = pd.DataFrame(dists, index=ordinals) \n",
    "print('原來的:', df1, sep='\\n')\n",
    "\n",
    "df2 = pd.DataFrame(dists, \n",
    "                  columns = [\"name\", \"city\", \"population\"],\n",
    "                  index=ordinals) \n",
    "\n",
    "print('重新設定的:', df2, sep='\\n')\n",
    "\n",
    "print()\n",
    "\n",
    "df3 = pd.DataFrame(dists, index=ordinals)\n",
    "df3.columns = [\"population\", \"name\", \"city\" ]\n",
    "print(df3) \n"
   ]
  },
  {
   "cell_type": "code",
   "execution_count": 15,
   "metadata": {},
   "outputs": [
    {
     "name": "stdout",
     "output_type": "stream",
     "text": [
      "   name  population city\n",
      "0   中正區      159598  台北市\n",
      "1   板橋區      551452  新北市\n",
      "2   桃園區      441287  桃園市\n",
      "3   北屯區      275207  台中市\n",
      "4   安南區      192327  台南市\n",
      "5   三民區      343203  高雄市\n",
      "6   大安區      309835  台北市\n",
      "7   永和區      222531  新北市\n",
      "8   八德區      198473  桃園市\n",
      "9   前鎮區      189623  高雄市\n",
      "10  鳳山區      359125  高雄市\n",
      "11  信義區      225561  台北市\n",
      "12  新店區      302070  新北市\n",
      "\n",
      "new columns:\n",
      " RangeIndex(start=0, stop=13, step=1)\n",
      "df.T:\n",
      "                  0       1       2       3       4       5       6       7  \\\n",
      "name           中正區     板橋區     桃園區     北屯區     安南區     三民區     大安區     永和區   \n",
      "population  159598  551452  441287  275207  192327  343203  309835  222531   \n",
      "city           台北市     新北市     桃園市     台中市     台南市     高雄市     台北市     新北市   \n",
      "\n",
      "                 8       9      10      11      12  \n",
      "name           八德區     前鎮區     鳳山區     信義區     新店區  \n",
      "population  198473  189623  359125  225561  302070  \n",
      "city           桃園市     高雄市     高雄市     台北市     新北市  \n"
     ]
    }
   ],
   "source": [
    "# 轉置DataFrame物件：Ch9_2_1d.py\n",
    "\n",
    "import pandas as pd\n",
    "\n",
    "dists = {\"name\": [\"中正區\", \"板橋區\", \"桃園區\", \"北屯區\", \n",
    "                   \"安南區\", \"三民區\", \"大安區\", \"永和區\", \n",
    "                   \"八德區\", \"前鎮區\", \"鳳山區\", \n",
    "                   \"信義區\", \"新店區\"],\n",
    "         \"population\": [159598, 551452, 441287, 275207,\n",
    "                        192327, 343203, 309835, 222531,\n",
    "                        198473, 189623, 359125, \n",
    "                        225561, 302070],\n",
    "         \"city\": [\"台北市\", \"新北市\", \"桃園市\", \"台中市\",\n",
    "                  \"台南市\", \"高雄市\", \"台北市\", \"新北市\",\n",
    "                  \"桃園市\", \"高雄市\", \"高雄市\",\n",
    "                  \"台北市\", \"新北市\"]}\n",
    "       \n",
    "df = pd.DataFrame(dists) \n",
    "\n",
    "print(df)\n",
    "print()\n",
    "a = df.T\n",
    "print('new columns:\\n', a.columns)\n",
    "print('df.T:\\n', a) \n",
    "# df.T.to_html(\"Ch9_2_1d.html\")"
   ]
  },
  {
   "cell_type": "code",
   "execution_count": null,
   "metadata": {
    "collapsed": true
   },
   "outputs": [],
   "source": [
    "# 行或列的標題在建立時可省略，之後可再設定或是修改\n",
    "\n",
    "import pandas as pd\n",
    "df = pd.DataFrame([[90,85,88,92], [80,70,87,60], [100,95,98,90]])\n",
    "print(df)\n",
    "print()\n",
    "\n",
    "idx=['John', 'Tom', 'Richard']\n",
    "cl=['Math', 'Chinese', 'Physics', 'Programming']\n",
    "df.columns=cl\n",
    "df.index=idx\n",
    "print(df)\n",
    "print()\n",
    "\n",
    "idx[0]='Irene'\n",
    "df.index=idx\n",
    "cl[1]='Algorithm'\n",
    "df.columns=cl\n",
    "print(df)"
   ]
  },
  {
   "cell_type": "code",
   "execution_count": null,
   "metadata": {
    "collapsed": true
   },
   "outputs": [],
   "source": [
    "# Ch9_2_1d.html\"\n",
    "<table border=\"1\" class=\"dataframe\">\n",
    "  <thead>\n",
    "    <tr style=\"text-align: right;\">\n",
    "      <th></th>\n",
    "      <th>台北市</th>\n",
    "      <th>新北市</th>\n",
    "      <th>桃園市</th>\n",
    "      <th>台中市</th>\n",
    "      <th>台南市</th>\n",
    "      <th>高雄市</th>\n",
    "      <th>台北市</th>\n",
    "      <th>新北市</th>\n",
    "      <th>桃園市</th>\n",
    "      <th>高雄市</th>\n",
    "      <th>高雄市</th>\n",
    "      <th>台北市</th>\n",
    "      <th>新北市</th>\n",
    "    </tr>\n",
    "  </thead>\n",
    "  <tbody>\n",
    "    <tr>\n",
    "      <th>name</th>\n",
    "      <td>中正區</td>\n",
    "      <td>板橋區</td>\n",
    "      <td>桃園區</td>\n",
    "      <td>北屯區</td>\n",
    "      <td>安南區</td>\n",
    "      <td>三民區</td>\n",
    "      <td>大安區</td>\n",
    "      <td>永和區</td>\n",
    "      <td>八德區</td>\n",
    "      <td>前鎮區</td>\n",
    "      <td>鳳山區</td>\n",
    "      <td>信義區</td>\n",
    "      <td>新店區</td>\n",
    "    </tr>\n",
    "    <tr>\n",
    "      <th>population</th>\n",
    "      <td>159598</td>\n",
    "      <td>551452</td>\n",
    "      <td>441287</td>\n",
    "      <td>275207</td>\n",
    "      <td>192327</td>\n",
    "      <td>343203</td>\n",
    "      <td>309835</td>\n",
    "      <td>222531</td>\n",
    "      <td>198473</td>\n",
    "      <td>189623</td>\n",
    "      <td>359125</td>\n",
    "      <td>225561</td>\n",
    "      <td>302070</td>\n",
    "    </tr>\n",
    "  </tbody>\n",
    "</table>"
   ]
  },
  {
   "cell_type": "markdown",
   "metadata": {},
   "source": [
    "### 取得資料型別\n",
    "\n",
    "* .dtypes"
   ]
  },
  {
   "cell_type": "code",
   "execution_count": 13,
   "metadata": {},
   "outputs": [
    {
     "name": "stdout",
     "output_type": "stream",
     "text": [
      "name          object\n",
      "population     int64\n",
      "city          object\n",
      "dtype: object\n"
     ]
    }
   ],
   "source": [
    "import pandas as pd\n",
    "\n",
    "dists = {\"name\": [\"中正區\", \"板橋區\", \"桃園區\", \"北屯區\", \n",
    "                   \"安南區\", \"三民區\", \"大安區\", \"永和區\", \n",
    "                   \"八德區\", \"前鎮區\", \"鳳山區\", \n",
    "                   \"信義區\", \"新店區\"],\n",
    "         \"population\": [159598, 551452, 441287, 275207,\n",
    "                        192327, 343203, 309835, 222531,\n",
    "                        198473, 189623, 359125, \n",
    "                        225561, 302070],\n",
    "         \"city\": [\"台北市\", \"新北市\", \"桃園市\", \"台中市\",\n",
    "                  \"台南市\", \"高雄市\", \"台北市\", \"新北市\",\n",
    "                  \"桃園市\", \"高雄市\", \"高雄市\",\n",
    "                  \"台北市\", \"新北市\"]}\n",
    "\n",
    "df = pd.DataFrame(dists) \n",
    "print(df.dtypes)"
   ]
  },
  {
   "cell_type": "code",
   "execution_count": 17,
   "metadata": {},
   "outputs": [
    {
     "name": "stdout",
     "output_type": "stream",
     "text": [
      "A    float64\n",
      "B    float64\n",
      "C    float64\n",
      "D    float64\n",
      "dtype: object\n",
      "DatetimeIndex(['2013-01-01', '2013-01-02', '2013-01-03', '2013-01-04',\n",
      "               '2013-01-05', '2013-01-06'],\n",
      "              dtype='datetime64[ns]', freq='D')\n"
     ]
    }
   ],
   "source": [
    "import numpy as np\n",
    "import pandas as pd\n",
    "\n",
    "dates = pd.date_range('20130101', periods=6)\n",
    "df = pd.DataFrame(np.random.randn(6, 4), index=dates, columns=list('ABCD'))\n",
    "print(df.dtypes)\n",
    "print(df.index)"
   ]
  },
  {
   "cell_type": "markdown",
   "metadata": {},
   "source": [
    "## DataFrame索引：取得DataFrame的資料"
   ]
  },
  {
   "cell_type": "code",
   "execution_count": 26,
   "metadata": {},
   "outputs": [
    {
     "name": "stdout",
     "output_type": "stream",
     "text": [
      "        Math    Chinese    Physics  Programming\n",
      "count    3.0   3.000000   3.000000     3.000000\n",
      "mean    90.0  83.333333  91.000000    80.666667\n",
      "std     10.0  12.583057   6.082763    17.925773\n",
      "min     80.0  70.000000  87.000000    60.000000\n",
      "25%     85.0  77.500000  87.500000    75.000000\n",
      "50%     90.0  85.000000  88.000000    90.000000\n",
      "75%     95.0  90.000000  93.000000    91.000000\n",
      "max    100.0  95.000000  98.000000    92.000000\n"
     ]
    }
   ],
   "source": [
    "# 描述性統計資料 .describe():顯示各欄位的個數、平均數、標準差、最大、最小值、P25, P50, P75\n",
    "\n",
    "import pandas as pd\n",
    "df = pd.DataFrame([[90,85,88,92], [80,70,87,60], [100,95,98,90]], \n",
    "    columns=['Math', 'Chinese', 'Physics', 'Programming'], \n",
    "    index=['John', 'Tom', 'Richard'])\n",
    "\n",
    "print(df.describe())"
   ]
  },
  {
   "cell_type": "code",
   "execution_count": null,
   "metadata": {},
   "outputs": [],
   "source": [
    "取得DataFrame的資料\n",
    "1. 以行標題與列標題取得資料：    # 註：行就是欄位 column，列就是索引 index\n",
    "   DataFrame名稱.行標題    # 行標題不需用引號刮起來\n",
    "   DataFrame名稱['行標題']\n",
    "   DataFrame名稱[[行標題1, 行標題2,...]]   #因為是串列中的串列，要兩層的[]\n",
    "   DataFrame名稱[DataFrame名稱.行標題的邏輯運算]  #例如： df[df.Math >= 60]\n",
    "   DataFrame名稱[列標題:列標題]         \n",
    "   DataFrame名稱[列索引1:列索引2]     # 即第幾筆資料到第幾筆資料，不包含列索引2  \n",
    "2. 以values取得列或某一欄的資料：\n",
    "   DataFrame名稱.values   #取得全部資料\n",
    "   DataFrame名稱.values[列索引]   #取得某列資料\n",
    "   DataFrame名稱.values[列索引, 行索引]  #取得某欄資料\n",
    "3. 以loc來取得資料\n",
    "   DataFrame名稱.loc[列標題, 行標題]  #取得某欄資料\n",
    "    data.loc['x1', 'y5']\n",
    "   DataFrame名稱.loc[列標題區段, 行標題區段]  #取得某些連續列和某些連續行的資料\n",
    "    data.loc['x3', 'y2': 'y5']     # 注意:這是包含y5這一行\n",
    "   DataFrame名稱.loc[[列標題1, 列標題2...], [行標題1, 行標題2...]]  #取得部分列或部分欄的資料(不連續時使用)\n",
    "    data.loc['x3, ['y1', 'y4']]\n",
    "    data.loc[['x2', 'x4'], ['y2', 'y5']]\n",
    "    若是列和行沒有取名，會以0, 1, 2...代替，此時使用 data.loc[5, 3:6] \n",
    "    但是data.loc[5, 3:6]和data.iloc[5, 3:6]內容是不同的，因為前者有包含第6行，後者沒有\n",
    "4. 以iloc來取得資料\n",
    "   DataFrame名稱.iloc[列索引, 行索引]  #取得某欄資料，索引為從 0開始\n",
    "   其他方法和loc相同，可以有連續或不連續的區段\n",
    "    data.iloc[3, 2:5]     # 注意:這是不包含索引 5這一行\n",
    "DataFrame名稱.head(n)  #取得前 n列的資料\n",
    "DataFrame名稱.tail(n)  #取得後 n列的資料\n",
    "註： python要列出串列的前n個元素使用 串列名稱[n]\n",
    "             \n",
    "### 5. 取得部分資料\n",
    "DataFrame名稱[列開始索引:列結束索引:step]"
   ]
  },
  {
   "cell_type": "code",
   "execution_count": 1,
   "metadata": {},
   "outputs": [
    {
     "name": "stdout",
     "output_type": "stream",
     "text": [
      "         Math  Chinese  Physics  Programming\n",
      "John       90       85       88           92\n",
      "Tom        80       70       87           60\n",
      "Richard   100       95       98           90\n",
      "\n",
      "John       85\n",
      "Tom        70\n",
      "Richard    95\n",
      "Name: Chinese, dtype: int64\n",
      "\n",
      "John       85\n",
      "Tom        70\n",
      "Richard    95\n",
      "Name: Chinese, dtype: int64\n",
      "\n",
      "         Math  Chinese\n",
      "John       90       85\n",
      "Tom        80       70\n",
      "Richard   100       95\n",
      "\n",
      "         Math  Chinese  Physics  Programming\n",
      "John       90       85       88           92\n",
      "Richard   100       95       98           90\n"
     ]
    }
   ],
   "source": [
    "# 以行標題取得資料：\n",
    "#    DataFrame名稱.行標題    # 行標題不需用引號刮起來\n",
    "#    DataFrame名稱['行標題']\n",
    "#    DataFrame名稱[[行標題1, 行標題2,...]]   #因為是串列中的串列，要兩層的[]\n",
    "#    DataFrame名稱[DataFrame名稱.行標題的邏輯運算]  #例如： df[df.Math >= 60]\n",
    "\n",
    "import pandas as pd\n",
    "df = pd.DataFrame([[90,85,88,92], [80,70,87,60], [100,95,98,90]], \n",
    "    columns=['Math', 'Chinese', 'Physics', 'Programming'], \n",
    "    index=['John', 'Tom', 'Richard'])\n",
    "\n",
    "df1 = df['Chinese']\n",
    "df2 = df.Chinese\n",
    "df3 = df[['Math', 'Chinese']]\n",
    "df4 = df[df.Math >= 90]\n",
    "print(df, df1, df2, df3, df4, sep='\\n\\n')\n"
   ]
  },
  {
   "cell_type": "code",
   "execution_count": 54,
   "metadata": {},
   "outputs": [
    {
     "name": "stdout",
     "output_type": "stream",
     "text": [
      "         Math  Chinese  Physics  Programming\n",
      "Tom        80       70       87           60\n",
      "Richard   100       95       98           90\n",
      "\n",
      "     Math  Chinese  Physics  Programming\n",
      "Tom    80       70       87           60\n"
     ]
    }
   ],
   "source": [
    "# 以列標題取得資料：\n",
    "#    DataFrame名稱[列標題1:列標題1]\n",
    "#    DataFrame名稱[列索引1:列索引2] \n",
    "\n",
    "import pandas as pd\n",
    "df = pd.DataFrame([[90,85,88,92], [80,70,87,60], [100,95,98,90]], \n",
    "    columns=['Math', 'Chinese', 'Physics', 'Programming'], \n",
    "    index=['John', 'Tom', 'Richard'])\n",
    "\n",
    "print(df['Tom':'Richard'])\n",
    "print()\n",
    "print(df[1: 2])  "
   ]
  },
  {
   "cell_type": "code",
   "execution_count": 10,
   "metadata": {},
   "outputs": [
    {
     "name": "stdout",
     "output_type": "stream",
     "text": [
      "         Math  Chinese  Physics  Programming\n",
      "John       90       85       88           92\n",
      "Tom        80       70       87           60\n",
      "Richard   100       95       98           90\n",
      "Math       90\n",
      "Chinese    85\n",
      "Physics    88\n",
      "Name: John, dtype: int64\n"
     ]
    }
   ],
   "source": [
    "# test\n",
    "# 以行標題取得資料：\n",
    "import pandas as pd\n",
    "df = pd.DataFrame([[90,85,88,92], [80,70,87,60], [100,95,98,90]], \n",
    "    columns=['Math', 'Chinese', 'Physics', 'Programming'], \n",
    "    index=['John', 'Tom', 'Richard'])\n",
    "\n",
    "print(df)\n",
    "\n",
    "a = df.loc['John', 'Math': 'Physics']\n",
    "print(a)"
   ]
  },
  {
   "cell_type": "code",
   "execution_count": 11,
   "metadata": {},
   "outputs": [
    {
     "name": "stdout",
     "output_type": "stream",
     "text": [
      "         Math  Chinese  Physics  Programming\n",
      "John       90       85       88           92\n",
      "Tom        80       70       87           60\n",
      "Richard   100       95       98           90\n",
      "\n",
      "[[ 90  85  88  92]\n",
      " [ 80  70  87  60]\n",
      " [100  95  98  90]]\n",
      "\n",
      "[100  95  98  90]\n",
      "\n",
      "95\n",
      "\n",
      "95\n",
      "\n",
      " 前兩列: \n",
      "       Math  Chinese  Physics  Programming\n",
      "John    90       85       88           92\n",
      "Tom     80       70       87           60 \n",
      "\n",
      "後兩列: \n",
      "          Math  Chinese  Physics  Programming\n",
      "Tom        80       70       87           60\n",
      "Richard   100       95       98           90\n",
      "95\n"
     ]
    }
   ],
   "source": [
    "# 以values取得列或某一欄的資料\n",
    "# 以loc來取得資料，使用列和欄的名稱\n",
    "# 以iloc來取得資料，使用列和欄的編號\n",
    "\n",
    "import pandas as pd\n",
    "df = pd.DataFrame([[90,85,88,92], [80,70,87,60], [100,95,98,90]], \n",
    "    columns=['Math', 'Chinese', 'Physics', 'Programming'], \n",
    "    index=['John', 'Tom', 'Richard'])\n",
    "\n",
    "df1 = df.values\n",
    "df2 = df.values[2]\n",
    "df3 = df.values[2][1]\n",
    "\n",
    "df4 = df.iloc[2][1] \n",
    "df5 = df.loc['Tom', 'Chinese']\n",
    "\n",
    "print(df, df1, df2, df3, df4, sep='\\n\\n')\n",
    "\n",
    "print('\\n', '前兩列:', '\\n', df.head(2), '\\n')\n",
    "print('後兩列:', '\\n', df.tail(2))\n",
    "print(df4)"
   ]
  },
  {
   "cell_type": "code",
   "execution_count": null,
   "metadata": {
    "collapsed": true
   },
   "outputs": [],
   "source": [
    "import pandas as pd\n",
    "import numpy as np\n",
    "s = np.array([1,\"abc\",\"6\",np.nan,44,1])  \n",
    "   #因為 numpy 必須是同一種資料型態，所以都轉換為文字\n",
    "print(s)"
   ]
  },
  {
   "cell_type": "code",
   "execution_count": null,
   "metadata": {
    "collapsed": true
   },
   "outputs": [],
   "source": [
    "import numpy as np\n",
    "a = np.random.randint(10) # 0 .. 10 (exclude 10)\n",
    "print(a)"
   ]
  },
  {
   "cell_type": "code",
   "execution_count": null,
   "metadata": {
    "collapsed": true
   },
   "outputs": [],
   "source": [
    "import pandas as pd\n",
    "import numpy as np\n",
    "df = pd.DataFrame(np.random.randn(7,3))\n",
    "print(df)\n",
    "print()\n",
    "data = pd.Series(np.random.randn(100),index=np.arange(100))  # series is an one-dimentional array\n",
    "print(data)\n",
    "print()\n",
    "\n",
    "eat = np.random.randint(10,size=(7,3))*5+50  # random number = (between 0 and 10) * 5 + 50\n",
    "print(eat)\n"
   ]
  },
  {
   "cell_type": "code",
   "execution_count": null,
   "metadata": {
    "collapsed": true
   },
   "outputs": [],
   "source": [
    "# Pandas\n",
    "\n"
   ]
  },
  {
   "cell_type": "code",
   "execution_count": null,
   "metadata": {
    "collapsed": true
   },
   "outputs": [],
   "source": [
    "import pandas as pd\n",
    "import numpy as np\n",
    "s = pd.Series([1,\"abc\",\"6\",np.nan,44,1])\n",
    "print(s)"
   ]
  },
  {
   "cell_type": "code",
   "execution_count": null,
   "metadata": {
    "collapsed": true
   },
   "outputs": [],
   "source": [
    "# laich 名字需修改\n",
    "\n",
    "import pandas as pd\n",
    "datas = [[65,92,78,83,70], [90,72,76,93,56], [81,85,'abc',89,77], [79,53,47,94,80]]\n",
    "indexs = [\"林大明\", \"陳聰明\", \"黃美麗\", \"熊小娟\"]\n",
    "columns = [\"國文\", \"數學\", \"英文\", \"自然\", \"社會\"]\n",
    "df = pd.DataFrame(datas, columns=columns,  index=indexs)\n",
    "indexs[0] = \"林晶輝\"\n",
    "df.index = indexs\n",
    "columns[3] = \"理化\"\n",
    "df.columns = columns\n",
    "print(df)\n",
    "print()\n",
    "print(df[\"數學\"])\n",
    "print()"
   ]
  },
  {
   "cell_type": "code",
   "execution_count": null,
   "metadata": {
    "collapsed": true
   },
   "outputs": [],
   "source": [
    "### 刪除 DataFrame 資料\n",
    "Pandas 使用 drop 刪除 DataFrame 資料，語法為：\n",
    "\n",
    "df.drop(行標題或列標題 [, axix = 行列的數值])\n",
    "   行列數值為0 表示列標題排序(預設), 1為行\n"
   ]
  },
  {
   "cell_type": "markdown",
   "metadata": {},
   "source": [
    "## 檔案輸出與匯入"
   ]
  },
  {
   "cell_type": "code",
   "execution_count": null,
   "metadata": {
    "collapsed": true
   },
   "outputs": [],
   "source": [
    "pandas 常用匯入資料的方法：\n",
    "匯入CSV格式的檔案：\n",
    "read_csv\n",
    "read_excel\n",
    "read_sql\n",
    "read_json\n",
    "read_html  #需要安裝 html5lib 匯入HTML檔案，Pandas會抽出<table>表格標籤的資料\n"
   ]
  },
  {
   "cell_type": "markdown",
   "metadata": {},
   "source": [
    "### 匯出DataFrame物件至檔案\n",
    "\n",
    "* 匯出成CSV格式的檔案：   pd.to_csv(filename)\n",
    "* 匯出成JSON格式的檔案：   pd.to_json(filename)\n",
    "* 匯出成HTML表格標籤的檔案： pd.to_html(filename)\n",
    "* 匯出成Excel檔案： pd.to_excel(filename)\n",
    "\n"
   ]
  },
  {
   "cell_type": "code",
   "execution_count": 15,
   "metadata": {
    "collapsed": true
   },
   "outputs": [],
   "source": [
    "import pandas as pd\n",
    "\n",
    "dists = {\"name\": [\"中正區\", \"板橋區\", \"桃園區\", \"北屯區\", \n",
    "                   \"安南區\", \"三民區\", \"大安區\", \"永和區\", \n",
    "                   \"八德區\", \"前鎮區\", \"鳳山區\", \n",
    "                   \"信義區\", \"新店區\"],\n",
    "         \"population\": [159598, 551452, 441287, 275207,\n",
    "                        192327, 343203, 309835, 222531,\n",
    "                        198473, 189623, 359125, \n",
    "                        225561, 302070],\n",
    "         \"city\": [\"台北市\", \"新北市\", \"桃園市\", \"台中市\",\n",
    "                  \"台南市\", \"高雄市\", \"台北市\", \"新北市\",\n",
    "                  \"桃園市\", \"高雄市\", \"高雄市\",\n",
    "                  \"台北市\", \"新北市\"]}\n",
    "df = pd.DataFrame(dists) \n",
    "\n",
    "df.to_csv(\"dists.csv\", index=False, encoding=\"utf8\")\n",
    "df.to_json(\"dists.json\")"
   ]
  },
  {
   "cell_type": "code",
   "execution_count": 16,
   "metadata": {},
   "outputs": [
    {
     "name": "stdout",
     "output_type": "stream",
     "text": [
      "   city name  population\n",
      "0   台北市  中正區      159598\n",
      "1   新北市  板橋區      551452\n",
      "2   桃園市  桃園區      441287\n",
      "3   台中市  北屯區      275207\n",
      "4   台南市  安南區      192327\n",
      "5   高雄市  三民區      343203\n",
      "6   台北市  大安區      309835\n",
      "7   新北市  永和區      222531\n",
      "8   桃園市  八德區      198473\n",
      "9   高雄市  前鎮區      189623\n",
      "10  高雄市  鳳山區      359125\n",
      "11  台北市  信義區      225561\n",
      "12  新北市  新店區      302070\n",
      "   city name  population\n",
      "0   台北市  中正區      159598\n",
      "1   新北市  板橋區      551452\n",
      "10  高雄市  鳳山區      359125\n",
      "11  台北市  信義區      225561\n",
      "12  新北市  新店區      302070\n",
      "2   桃園市  桃園區      441287\n",
      "3   台中市  北屯區      275207\n",
      "4   台南市  安南區      192327\n",
      "5   高雄市  三民區      343203\n",
      "6   台北市  大安區      309835\n",
      "7   新北市  永和區      222531\n",
      "8   桃園市  八德區      198473\n",
      "9   高雄市  前鎮區      189623\n"
     ]
    }
   ],
   "source": [
    "import pandas as pd\n",
    "\n",
    "# 匯入CSV格式的檔案\n",
    "df = pd.read_csv(\"dists.csv\", encoding=\"utf8\")\n",
    "print(df)\n",
    "df.to_html(\"Ch9_2_2a_01.html\")\n",
    "# 匯入JSON格式的檔案\n",
    "df2 = pd.read_json(\"dists.json\")\n",
    "print(df2)\n",
    "df.to_html(\"Ch9_2_2a_02.html\")"
   ]
  },
  {
   "cell_type": "code",
   "execution_count": 6,
   "metadata": {},
   "outputs": [
    {
     "name": "stdout",
     "output_type": "stream",
     "text": [
      "   city name  population\n",
      "0   台北市  中正區      159598\n",
      "1   新北市  板橋區      551452\n",
      "2   桃園市  桃園區      441287\n",
      "3   台中市  北屯區      275207\n",
      "4   台南市  安南區      192327\n",
      "5   高雄市  三民區      343203\n",
      "6   台北市  大安區      309835\n",
      "7   新北市  永和區      222531\n",
      "8   桃園市  八德區      198473\n",
      "9   高雄市  前鎮區      189623\n",
      "10  高雄市  鳳山區      359125\n",
      "11  台北市  信義區      225561\n",
      "12  新北市  新店區      302070\n"
     ]
    }
   ],
   "source": [
    "import pandas as pd\n",
    "\n",
    "# 匯入CSV格式的檔案\n",
    "df = pd.read_csv(\"dists.csv\", encoding=\"utf8\", header=0)\n",
    "print(df)"
   ]
  },
  {
   "cell_type": "code",
   "execution_count": 19,
   "metadata": {},
   "outputs": [
    {
     "name": "stdout",
     "output_type": "stream",
     "text": [
      "   city name  population\n",
      "0   台北市  中正區      159598\n",
      "1   新北市  板橋區      551452\n",
      "2   桃園市  桃園區      441287\n",
      "3   台中市  北屯區      275207\n",
      "4   台南市  安南區      192327\n",
      "5   高雄市  三民區      343203\n",
      "6   台北市  大安區      309835\n",
      "7   新北市  永和區      222531\n",
      "8   桃園市  八德區      198473\n",
      "9   高雄市  前鎮區      189623\n",
      "10  高雄市  鳳山區      359125\n",
      "11  台北市  信義區      225561\n",
      "12  新北市  新店區      302070\n"
     ]
    }
   ],
   "source": [
    "import pandas as pd\n",
    "\n",
    "# 匯入CSV格式的檔案\n",
    "df = pd.read_csv(\"dists.csv\", encoding=\"utf8\")\n",
    "print(df)"
   ]
  },
  {
   "cell_type": "code",
   "execution_count": null,
   "metadata": {
    "collapsed": true
   },
   "outputs": [],
   "source": [
    "# dists.csv\n",
    "\n",
    "city,name,population\n",
    "台北市,中正區,159598\n",
    "新北市,板橋區,551452\n",
    "桃園市,桃園區,441287\n",
    "台中市,北屯區,275207\n",
    "台南市,安南區,192327\n",
    "高雄市,三民區,343203\n",
    "台北市,大安區,309835\n",
    "新北市,永和區,222531\n",
    "桃園市,八德區,198473\n",
    "高雄市,前鎮區,189623\n",
    "高雄市,鳳山區,359125\n",
    "台北市,信義區,225561\n",
    "新北市,新店區,302070"
   ]
  },
  {
   "cell_type": "code",
   "execution_count": null,
   "metadata": {
    "collapsed": true
   },
   "outputs": [],
   "source": [
    "#dists.json\n",
    "\n",
    "{\"city\":{\"0\":\"\\u53f0\\u5317\\u5e02\",\"1\":\"\\u65b0\\u5317\\u5e02\",\"2\":\"\\u6843\\u5712\\u5e02\",\"3\":\"\\u53f0\\u4e2d\\u5e02\",\"4\":\"\\u53f0\\u5357\\u5e02\",\"5\":\"\\u9ad8\\u96c4\\u5e02\",\"6\":\"\\u53f0\\u5317\\u5e02\",\"7\":\"\\u65b0\\u5317\\u5e02\",\"8\":\"\\u6843\\u5712\\u5e02\",\"9\":\"\\u9ad8\\u96c4\\u5e02\",\"10\":\"\\u9ad8\\u96c4\\u5e02\",\"11\":\"\\u53f0\\u5317\\u5e02\",\"12\":\"\\u65b0\\u5317\\u5e02\"},\"name\":{\"0\":\"\\u4e2d\\u6b63\\u5340\",\"1\":\"\\u677f\\u6a4b\\u5340\",\"2\":\"\\u6843\\u5712\\u5340\",\"3\":\"\\u5317\\u5c6f\\u5340\",\"4\":\"\\u5b89\\u5357\\u5340\",\"5\":\"\\u4e09\\u6c11\\u5340\",\"6\":\"\\u5927\\u5b89\\u5340\",\"7\":\"\\u6c38\\u548c\\u5340\",\"8\":\"\\u516b\\u5fb7\\u5340\",\"9\":\"\\u524d\\u93ae\\u5340\",\"10\":\"\\u9cf3\\u5c71\\u5340\",\"11\":\"\\u4fe1\\u7fa9\\u5340\",\"12\":\"\\u65b0\\u5e97\\u5340\"},\"population\":{\"0\":159598,\"1\":551452,\"2\":441287,\"3\":275207,\"4\":192327,\"5\":343203,\"6\":309835,\"7\":222531,\"8\":198473,\"9\":189623,\"10\":359125,\"11\":225561,\"12\":302070}}"
   ]
  },
  {
   "cell_type": "code",
   "execution_count": null,
   "metadata": {
    "collapsed": true
   },
   "outputs": [],
   "source": [
    "# Ch9_2_2a_01.html\n",
    "\n",
    "<table border=\"1\" class=\"dataframe\">\n",
    "  <thead>\n",
    "    <tr style=\"text-align: right;\">\n",
    "      <th></th>\n",
    "      <th>city</th>\n",
    "      <th>name</th>\n",
    "      <th>population</th>\n",
    "    </tr>\n",
    "  </thead>\n",
    "  <tbody>\n",
    "    <tr>\n",
    "      <th>0</th>\n",
    "      <td>台北市</td>\n",
    "      <td>中正區</td>\n",
    "      <td>159598</td>\n",
    "    </tr>\n",
    "    <tr>\n",
    "      <th>1</th>\n",
    "      <td>新北市</td>\n",
    "      <td>板橋區</td>\n",
    "      <td>551452</td>\n",
    "    </tr>\n",
    "    <tr>\n",
    "      <th>2</th>\n",
    "      <td>桃園市</td>\n",
    "      <td>桃園區</td>\n",
    "      <td>441287</td>\n",
    "    </tr>\n",
    "    <tr>\n",
    "      <th>3</th>\n",
    "      <td>台中市</td>\n",
    "      <td>北屯區</td>\n",
    "      <td>275207</td>\n",
    "    </tr>\n",
    "    <tr>\n",
    "      <th>4</th>\n",
    "      <td>台南市</td>\n",
    "      <td>安南區</td>\n",
    "      <td>192327</td>\n",
    "    </tr>\n",
    "    <tr>\n",
    "      <th>5</th>\n",
    "      <td>高雄市</td>\n",
    "      <td>三民區</td>\n",
    "      <td>343203</td>\n",
    "    </tr>\n",
    "    <tr>\n",
    "      <th>6</th>\n",
    "      <td>台北市</td>\n",
    "      <td>大安區</td>\n",
    "      <td>309835</td>\n",
    "    </tr>\n",
    "    <tr>\n",
    "      <th>7</th>\n",
    "      <td>新北市</td>\n",
    "      <td>永和區</td>\n",
    "      <td>222531</td>\n",
    "    </tr>\n",
    "    <tr>\n",
    "      <th>8</th>\n",
    "      <td>桃園市</td>\n",
    "      <td>八德區</td>\n",
    "      <td>198473</td>\n",
    "    </tr>\n",
    "    <tr>\n",
    "      <th>9</th>\n",
    "      <td>高雄市</td>\n",
    "      <td>前鎮區</td>\n",
    "      <td>189623</td>\n",
    "    </tr>\n",
    "    <tr>\n",
    "      <th>10</th>\n",
    "      <td>高雄市</td>\n",
    "      <td>鳳山區</td>\n",
    "      <td>359125</td>\n",
    "    </tr>\n",
    "    <tr>\n",
    "      <th>11</th>\n",
    "      <td>台北市</td>\n",
    "      <td>信義區</td>\n",
    "      <td>225561</td>\n",
    "    </tr>\n",
    "    <tr>\n",
    "      <th>12</th>\n",
    "      <td>新北市</td>\n",
    "      <td>新店區</td>\n",
    "      <td>302070</td>\n",
    "    </tr>\n",
    "  </tbody>\n",
    "</table>"
   ]
  },
  {
   "cell_type": "code",
   "execution_count": null,
   "metadata": {
    "collapsed": true
   },
   "outputs": [],
   "source": [
    "# Ch9_2_2a_02.html\n",
    "\n",
    "<table border=\"1\" class=\"dataframe\">\n",
    "  <thead>\n",
    "    <tr style=\"text-align: right;\">\n",
    "      <th></th>\n",
    "      <th>city</th>\n",
    "      <th>name</th>\n",
    "      <th>population</th>\n",
    "    </tr>\n",
    "  </thead>\n",
    "  <tbody>\n",
    "    <tr>\n",
    "      <th>0</th>\n",
    "      <td>台北市</td>\n",
    "      <td>中正區</td>\n",
    "      <td>159598</td>\n",
    "    </tr>\n",
    "    <tr>\n",
    "      <th>1</th>\n",
    "      <td>新北市</td>\n",
    "      <td>板橋區</td>\n",
    "      <td>551452</td>\n",
    "    </tr>\n",
    "    <tr>\n",
    "      <th>2</th>\n",
    "      <td>桃園市</td>\n",
    "      <td>桃園區</td>\n",
    "      <td>441287</td>\n",
    "    </tr>\n",
    "    <tr>\n",
    "      <th>3</th>\n",
    "      <td>台中市</td>\n",
    "      <td>北屯區</td>\n",
    "      <td>275207</td>\n",
    "    </tr>\n",
    "    <tr>\n",
    "      <th>4</th>\n",
    "      <td>台南市</td>\n",
    "      <td>安南區</td>\n",
    "      <td>192327</td>\n",
    "    </tr>\n",
    "    <tr>\n",
    "      <th>5</th>\n",
    "      <td>高雄市</td>\n",
    "      <td>三民區</td>\n",
    "      <td>343203</td>\n",
    "    </tr>\n",
    "    <tr>\n",
    "      <th>6</th>\n",
    "      <td>台北市</td>\n",
    "      <td>大安區</td>\n",
    "      <td>309835</td>\n",
    "    </tr>\n",
    "    <tr>\n",
    "      <th>7</th>\n",
    "      <td>新北市</td>\n",
    "      <td>永和區</td>\n",
    "      <td>222531</td>\n",
    "    </tr>\n",
    "    <tr>\n",
    "      <th>8</th>\n",
    "      <td>桃園市</td>\n",
    "      <td>八德區</td>\n",
    "      <td>198473</td>\n",
    "    </tr>\n",
    "    <tr>\n",
    "      <th>9</th>\n",
    "      <td>高雄市</td>\n",
    "      <td>前鎮區</td>\n",
    "      <td>189623</td>\n",
    "    </tr>\n",
    "    <tr>\n",
    "      <th>10</th>\n",
    "      <td>高雄市</td>\n",
    "      <td>鳳山區</td>\n",
    "      <td>359125</td>\n",
    "    </tr>\n",
    "    <tr>\n",
    "      <th>11</th>\n",
    "      <td>台北市</td>\n",
    "      <td>信義區</td>\n",
    "      <td>225561</td>\n",
    "    </tr>\n",
    "    <tr>\n",
    "      <th>12</th>\n",
    "      <td>新北市</td>\n",
    "      <td>新店區</td>\n",
    "      <td>302070</td>\n",
    "    </tr>\n",
    "  </tbody>\n",
    "</table>"
   ]
  },
  {
   "cell_type": "code",
   "execution_count": null,
   "metadata": {
    "collapsed": true
   },
   "outputs": [],
   "source": [
    "# chap. 11\n",
    "\n",
    "import pandas as pd\n",
    "tables = pd.read_html(\"http://www.stockq.org/market/commodity.php\")\n",
    "n = 1\n",
    "for table in tables:\n",
    "    print(\"第 \" + str(n) + \" 個表格：\")\n",
    "    print(table.head())\n",
    "    print()\n",
    "    n += 1\n"
   ]
  },
  {
   "cell_type": "code",
   "execution_count": null,
   "metadata": {
    "collapsed": true
   },
   "outputs": [],
   "source": [
    "# ch11\n",
    "import pandas as pd\n",
    "tables = pd.read_html(\"http://www.stockq.org/market/commodity.php\")\n",
    "table = tables[7]\n",
    "table = table.drop(table.index[[0,1]])\n",
    "table.columns = [\"商品\", \"買價\", \"漲跌\", \"比例\", \"台北\"]\n",
    "table.index = range(len(table.index))\n",
    "print(table)"
   ]
  },
  {
   "cell_type": "markdown",
   "metadata": {},
   "source": [
    "## 顯示基本資訊"
   ]
  },
  {
   "cell_type": "markdown",
   "metadata": {},
   "source": [
    "head()函數顯示前幾筆記錄，預設是5筆\n",
    "tail()函數顯示最後幾筆記錄，預設也是5筆"
   ]
  },
  {
   "cell_type": "code",
   "execution_count": null,
   "metadata": {
    "collapsed": true
   },
   "outputs": [],
   "source": [
    "import pandas as pd\n",
    "\n",
    "df = pd.read_csv(\"dists.csv\", encoding=\"utf8\")\n",
    "\n",
    "print(df.head()) \n",
    "print(df.head(3))\n"
   ]
  },
  {
   "cell_type": "code",
   "execution_count": null,
   "metadata": {
    "collapsed": true
   },
   "outputs": [],
   "source": [
    "# dists.csv\n",
    "city,name,population\n",
    "台北市,中正區,159598\n",
    "新北市,板橋區,551452\n",
    "桃園市,桃園區,441287\n",
    "台中市,北屯區,275207\n",
    "台南市,安南區,192327\n",
    "高雄市,三民區,343203\n",
    "台北市,大安區,309835\n",
    "新北市,永和區,222531\n",
    "桃園市,八德區,198473\n",
    "高雄市,前鎮區,189623\n",
    "高雄市,鳳山區,359125\n",
    "台北市,信義區,225561\n",
    "新北市,新店區,302070"
   ]
  },
  {
   "cell_type": "code",
   "execution_count": null,
   "metadata": {
    "collapsed": true
   },
   "outputs": [],
   "source": [
    "import pandas as pd\n",
    "\n",
    "df = pd.read_csv(\"dists.csv\", encoding=\"utf8\")\n",
    "\n",
    "print(df.tail())\n",
    "print(df.tail(3)) \n"
   ]
  },
  {
   "cell_type": "code",
   "execution_count": null,
   "metadata": {
    "collapsed": true
   },
   "outputs": [],
   "source": [
    "# 使用columns屬性指定DataFrame物件的欄位標籤清單\n",
    "\n",
    "import pandas as pd\n",
    "\n",
    "df = pd.read_csv(\"dists.csv\", encoding=\"utf8\")\n",
    "\n",
    "df.columns = [\"直轄市\", \"區\", \"人口\"]\n",
    "print(df.head(4)) \n",
    "\n"
   ]
  },
  {
   "cell_type": "code",
   "execution_count": 7,
   "metadata": {},
   "outputs": [
    {
     "name": "stdout",
     "output_type": "stream",
     "text": [
      "RangeIndex(start=0, stop=13, step=1)\n",
      "Index(['直轄市', '區', '人口'], dtype='object')\n",
      "[['台北市' '中正區' 159598]\n",
      " ['新北市' '板橋區' 551452]\n",
      " ['桃園市' '桃園區' 441287]\n",
      " ['台中市' '北屯區' 275207]\n",
      " ['台南市' '安南區' 192327]\n",
      " ['高雄市' '三民區' 343203]\n",
      " ['台北市' '大安區' 309835]\n",
      " ['新北市' '永和區' 222531]\n",
      " ['桃園市' '八德區' 198473]\n",
      " ['高雄市' '前鎮區' 189623]\n",
      " ['高雄市' '鳳山區' 359125]\n",
      " ['台北市' '信義區' 225561]\n",
      " ['新北市' '新店區' 302070]]\n"
     ]
    }
   ],
   "source": [
    "# 取得DataFrame物件的索引、欄位和資料：Ch9_2_3c.py\n",
    "\n",
    "import pandas as pd\n",
    "\n",
    "df = pd.read_csv(\"dists.csv\", encoding=\"utf8\")\n",
    "\n",
    "df.columns = [\"直轄市\", \"區\", \"人口\"]\n",
    "print(df.index)\n",
    "print(df.columns)\n",
    "print(df.values) "
   ]
  },
  {
   "cell_type": "code",
   "execution_count": null,
   "metadata": {
    "collapsed": true
   },
   "outputs": [],
   "source": [
    "# Python的len()函數取得DataFrame物件的記錄數，shape屬性取得形狀，info()函數取得摘要資訊\n",
    "\n",
    "import pandas as pd\n",
    "\n",
    "df = pd.read_csv(\"dists.csv\", encoding=\"utf8\")\n",
    "\n",
    "print(\"資料數= \", len(df))\n",
    "print(\"形狀= \", df.shape)  \n",
    "df.info()"
   ]
  },
  {
   "cell_type": "markdown",
   "metadata": {},
   "source": [
    "## 走訪 DataFrame 物件"
   ]
  },
  {
   "cell_type": "markdown",
   "metadata": {},
   "source": [
    "因為DataFrame物件是類似表格的試算表物件，如同關聯式資料庫的資料表，每一列相當是一筆記錄，  \n",
    "我們可以使用for/in迴圈走訪DataFrame物件的每一筆記錄"
   ]
  },
  {
   "cell_type": "code",
   "execution_count": 8,
   "metadata": {},
   "outputs": [
    {
     "name": "stdout",
     "output_type": "stream",
     "text": [
      "0 台北市 中正區 159598\n",
      "1 新北市 板橋區 551452\n",
      "2 桃園市 桃園區 441287\n",
      "3 台中市 北屯區 275207\n",
      "4 台南市 安南區 192327\n",
      "5 高雄市 三民區 343203\n",
      "6 台北市 大安區 309835\n",
      "7 新北市 永和區 222531\n",
      "8 桃園市 八德區 198473\n",
      "9 高雄市 前鎮區 189623\n",
      "10 高雄市 鳳山區 359125\n",
      "11 台北市 信義區 225561\n",
      "12 新北市 新店區 302070\n"
     ]
    }
   ],
   "source": [
    "# 使用iterrows()函數走訪DataFrame物件：Ch9_2_4.py\n",
    "\n",
    "import pandas as pd\n",
    "\n",
    "df = pd.read_csv(\"dists.csv\", encoding=\"utf8\")\n",
    "\n",
    "for index, row in df.iterrows() :\n",
    "    print(index, row[\"city\"], row[\"name\"], row[\"population\"])"
   ]
  },
  {
   "cell_type": "markdown",
   "metadata": {},
   "source": [
    "## 選擇、過濾與排序資料"
   ]
  },
  {
   "cell_type": "code",
   "execution_count": null,
   "metadata": {
    "collapsed": true
   },
   "outputs": [],
   "source": [
    "# 選擇資料  選擇單一欄位或多個欄位\n",
    "\n",
    "import pandas as pd\n",
    "\n",
    "df = pd.read_csv(\"dists.csv\", encoding=\"utf8\")\n",
    "ordinals =[\"first\", \"second\", \"third\", \"fourth\", \"fifth\",\n",
    "           \"sixth\", \"seventh\", \"eigth\", \"ninth\", \"tenth\",\n",
    "           \"eleventh\", \"twelvth\", \"thirteenth\"]  \n",
    "df.index = ordinals\n",
    "\n",
    "print(df.head(3))\n",
    "print()\n",
    "print(df[\"population\"].head(3))\n",
    "print()\n",
    "print(df[[\"city\",\"name\"]].head(3))  # 多欄位\n",
    "\n",
    "print(df.population.head(3))   # 使用屬性方式"
   ]
  },
  {
   "cell_type": "code",
   "execution_count": 1,
   "metadata": {},
   "outputs": [
    {
     "name": "stdout",
     "output_type": "stream",
     "text": [
      "       city name  population\n",
      "first   台北市  中正區      159598\n",
      "second  新北市  板橋區      551452\n",
      "third   桃園市  桃園區      441287\n",
      "         city name  population\n",
      "sixth     高雄市  三民區      343203\n",
      "seventh   台北市  大安區      309835\n",
      "eigth     新北市  永和區      222531\n",
      "ninth     桃園市  八德區      198473\n",
      "tenth     高雄市  前鎮區      189623\n",
      "eleventh  高雄市  鳳山區      359125\n"
     ]
    }
   ],
   "source": [
    "# 選擇資料 –選擇特定範圍的多筆記錄\n",
    "\n",
    "import pandas as pd\n",
    "\n",
    "df = pd.read_csv(\"dists.csv\", encoding=\"utf8\")\n",
    "ordinals =[\"first\", \"second\", \"third\", \"fourth\", \"fifth\",\n",
    "           \"sixth\", \"seventh\", \"eigth\", \"ninth\", \"tenth\",\n",
    "           \"eleventh\", \"twelvth\", \"thirteenth\"]  \n",
    "df.index = ordinals\n",
    "\n",
    "print(df[0:3])                # 不含 3\n",
    "print(df[\"sixth\":\"eleventh\"]) # 含 \"eleventh\""
   ]
  },
  {
   "cell_type": "code",
   "execution_count": null,
   "metadata": {
    "collapsed": true
   },
   "outputs": [],
   "source": [
    "# 使用loc索引器以標籤索引來選擇指定記錄，還可以選擇所需的欄位\n",
    "\n",
    "import pandas as pd\n",
    "\n",
    "df = pd.read_csv(\"dists.csv\", encoding=\"utf8\")\n",
    "ordinals =[\"first\", \"second\", \"third\", \"fourth\", \"fifth\",\n",
    "           \"sixth\", \"seventh\", \"eigth\", \"ninth\", \"tenth\",\n",
    "           \"eleventh\", \"twelvth\", \"thirteenth\"]  \n",
    "df.index = ordinals\n",
    "\n",
    "print(df.loc[ordinals[1]])\n",
    "print(type(df.loc[ordinals[1]]))\n",
    "print(df.loc[:,[\"name\",\"population\"]].head(3))\n",
    "\n",
    "\n",
    "print(df.loc[\"third\":\"fifth\", [\"name\",\"population\"]])\n",
    "print(df.loc[\"third\", [\"name\",\"population\"]])\n",
    "\n",
    "# 取得單一純量值\n",
    "print(df.loc[ordinals[0], \"name\"])\n",
    "print(type(df.loc[ordinals[0],\"name\"]))\n",
    "print(df.loc[\"first\", \"population\"])\n",
    "print(type(df.loc[\"first\", \"population\"]))"
   ]
  },
  {
   "cell_type": "code",
   "execution_count": null,
   "metadata": {
    "collapsed": true
   },
   "outputs": [],
   "source": [
    "# DataFrame物件的loc索引器是使用標籤索引來選擇資料，iloc索引器是使位置索引，也可以切割DataFrame物件的列或欄，即選擇指定範圍的列和欄\n",
    "\n",
    "import pandas as pd\n",
    "\n",
    "df = pd.read_csv(\"dists.csv\", encoding=\"utf8\")\n",
    "ordinals =[\"first\", \"second\", \"third\", \"fourth\", \"fifth\",\n",
    "           \"sixth\", \"seventh\", \"eigth\", \"ninth\", \"tenth\",\n",
    "           \"eleventh\", \"twelvth\", \"thirteenth\"]  \n",
    "df.index = ordinals\n",
    "\n",
    "print(df.iloc[3])          # 第 4 筆\n",
    "print()\n",
    "print(df.iloc[3:5, 1:3])   # 切割\n",
    "print()\n",
    "print(df.iloc[1:3, :])     # 切割列\n",
    "print()\n",
    "print(df.iloc[:, 1:3])     # 切割欄\n",
    "print()\n",
    "\n",
    "print(df.iloc[[1,2,4], [0,2]])   # 索引清單\n",
    "print()\n",
    "# 取得單一純量值\n",
    "print(df.iloc[1,1])\n",
    "print()\n",
    "print(df.iat[1,1])"
   ]
  },
  {
   "cell_type": "markdown",
   "metadata": {},
   "source": [
    "### 過濾資料"
   ]
  },
  {
   "cell_type": "markdown",
   "metadata": {},
   "source": [
    "過濾資料 – 使用布林索引和isin()函數 過濾資料：Ch9_3_2.py\n",
    "\n",
    "使用NumPy布林索引，讓我們只選擇條件成立的記錄資料，如下所示：\n",
    "print(df[df.population > 350000])\n",
    "print(df[df[\"city\"].isin([\"台北市\",\"高雄市\"])])"
   ]
  },
  {
   "cell_type": "code",
   "execution_count": null,
   "metadata": {
    "collapsed": true
   },
   "outputs": [],
   "source": [
    "import pandas as pd\n",
    "\n",
    "df = pd.read_csv(\"dists.csv\", encoding=\"utf8\")\n",
    "ordinals =[\"first\", \"second\", \"third\", \"fourth\", \"fifth\",\n",
    "           \"sixth\", \"seventh\", \"eigth\", \"ninth\", \"tenth\",\n",
    "           \"eleventh\", \"twelvth\", \"thirteenth\"]  \n",
    "df.index = ordinals\n",
    "\n",
    "print(df[df.population > 350000])\n",
    "\n",
    "print(df[df[\"city\"].isin([\"台北市\",\"高雄市\"])])\n"
   ]
  },
  {
   "cell_type": "code",
   "execution_count": 21,
   "metadata": {},
   "outputs": [
    {
     "name": "stdout",
     "output_type": "stream",
     "text": [
      "         city name  population\n",
      "third     桃園市  桃園區      441287\n",
      "eleventh  高雄市  鳳山區      359125\n",
      "        city name  population\n",
      "first    台北市  中正區      159598\n",
      "fourth   台中市  北屯區      275207\n",
      "fifth    台南市  安南區      192327\n",
      "seventh  台北市  大安區      309835\n",
      "twelvth  台北市  信義區      225561\n"
     ]
    }
   ],
   "source": [
    "# 布林索引可以使用多個條件\n",
    "\n",
    "import pandas as pd\n",
    "\n",
    "df = pd.read_csv(\"dists.csv\", encoding=\"utf8\")\n",
    "ordinals =[\"first\", \"second\", \"third\", \"fourth\", \"fifth\",\n",
    "           \"sixth\", \"seventh\", \"eigth\", \"ninth\", \"tenth\",\n",
    "           \"eleventh\", \"twelvth\", \"thirteenth\"]  \n",
    "df.index = ordinals\n",
    "\n",
    "print(df[(df.population > 350000) & (df.population < 500000)])\n",
    "\n",
    "print(df[df[\"city\"].str.startswith(\"台\")])\n"
   ]
  },
  {
   "cell_type": "markdown",
   "metadata": {},
   "source": [
    "### 排序資料"
   ]
  },
  {
   "cell_type": "code",
   "execution_count": null,
   "metadata": {
    "collapsed": true
   },
   "outputs": [],
   "source": [
    "# 將DataFrame物件改用\"population\"欄位作為索引，然後指定從大到小排序\n",
    "# ascending=False  大到小排序\n",
    "# inplace=True  dataframe會被取代\n",
    "\n",
    "import pandas as pd\n",
    "\n",
    "df = pd.read_csv(\"dists.csv\", encoding=\"utf8\")\n",
    "ordinals =[\"first\", \"second\", \"third\", \"fourth\", \"fifth\",\n",
    "           \"sixth\", \"seventh\", \"eigth\", \"ninth\", \"tenth\",\n",
    "           \"eleventh\", \"twelvth\", \"thirteenth\"]  \n",
    "df.index = ordinals\n",
    "\n",
    "df2 = df.set_index(\"population\")  # 設定排序的參照欄位\n",
    "print(df2.head())\n",
    "\n",
    "\n",
    "df2.sort_index(ascending=False, inplace=True)  # 排序\n",
    "print(df2.head())\n"
   ]
  },
  {
   "cell_type": "code",
   "execution_count": null,
   "metadata": {
    "collapsed": true
   },
   "outputs": [],
   "source": [
    "# inplace=False 不取代 ，資料不會被更改\n",
    "\n",
    "import pandas as pd\n",
    "\n",
    "df = pd.read_csv(\"dists.csv\", encoding=\"utf8\")\n",
    "ordinals =[\"first\", \"second\", \"third\", \"fourth\", \"fifth\",\n",
    "           \"sixth\", \"seventh\", \"eigth\", \"ninth\", \"tenth\",\n",
    "           \"eleventh\", \"twelvth\", \"thirteenth\"]  \n",
    "df.index = ordinals\n",
    "\n",
    "print()\n",
    "df2 = df.set_index(\"population\")\n",
    "print(df2.head())\n",
    "\n",
    "print()\n",
    "df3 = df2.sort_index(ascending=False, inplace=False)  \n",
    "print('df2:', df2.head(), sep ='\\n')\n",
    "print()\n",
    "print('df3:', df3.head(), sep ='\\n')"
   ]
  },
  {
   "cell_type": "markdown",
   "metadata": {},
   "source": [
    "## 合併與更新 DataFrame物件"
   ]
  },
  {
   "cell_type": "markdown",
   "metadata": {},
   "source": [
    "### 更新資料"
   ]
  },
  {
   "cell_type": "code",
   "execution_count": null,
   "metadata": {
    "collapsed": true
   },
   "outputs": [],
   "source": [
    "# 使用標籤和位置來選擇資料，就可以更新選擇的資料\n",
    "\n",
    "import pandas as pd\n",
    "\n",
    "df = pd.read_csv(\"dists.csv\", encoding=\"utf8\")\n",
    "ordinals =[\"first\", \"second\", \"third\", \"fourth\", \"fifth\",\n",
    "           \"sixth\", \"seventh\", \"eigth\", \"ninth\", \"tenth\",\n",
    "           \"eleventh\", \"twelvth\", \"thirteenth\"]  \n",
    "df.index = ordinals\n",
    "\n",
    "print(df.head(2))\n",
    "# 取得與更新單一純量值\n",
    "print(df.loc[ordinals[0], \"population\"])\n",
    "df.loc[ordinals[0], \"population\"] = 160000\n",
    "print(df.iloc[1,2])\n",
    "df.iloc[1,2] = 560000\n",
    "print(df.head(2))"
   ]
  },
  {
   "cell_type": "code",
   "execution_count": null,
   "metadata": {
    "collapsed": true
   },
   "outputs": [],
   "source": [
    "# 選擇欲取代的記錄來取代\n",
    "\n",
    "import pandas as pd\n",
    "df = pd.read_csv(\"dists.csv\", encoding=\"utf8\")\n",
    "ordinals =[\"first\", \"second\", \"third\", \"fourth\", \"fifth\",\n",
    "           \"sixth\", \"seventh\", \"eigth\", \"ninth\", \"tenth\",\n",
    "           \"eleventh\", \"twelvth\", \"thirteenth\"]  \n",
    "df.index = ordinals\n",
    "\n",
    "print(df.head(3))\n",
    "# 取得與更新單筆記錄\n",
    "print(df.loc[ordinals[1]])\n",
    "s = [\"新北市\", \"新莊區\", 416640] \n",
    "df.loc[ordinals[1]] = s\n",
    "print(df.head(3))\n"
   ]
  },
  {
   "cell_type": "code",
   "execution_count": null,
   "metadata": {
    "collapsed": true
   },
   "outputs": [],
   "source": [
    "# 更新整個欄位值\n",
    "\n",
    "import pandas as pd\n",
    "import numpy as np\n",
    "\n",
    "df = pd.read_csv(\"dists.csv\", encoding=\"utf8\")\n",
    "ordinals =[\"first\", \"second\", \"third\", \"fourth\", \"fifth\",\n",
    "           \"sixth\", \"seventh\", \"eigth\", \"ninth\", \"tenth\",\n",
    "           \"eleventh\", \"twelvth\", \"thirteenth\"]  \n",
    "df.index = ordinals\n",
    "\n",
    "print(df)\n",
    "# 取得與更新整個欄位\n",
    "print(df.loc[:, \"population\"])\n",
    "df.loc[:, \"population\"] = np.random.randint(34000, 700000, size=len(df))\n",
    "print(df.head())\n"
   ]
  },
  {
   "cell_type": "code",
   "execution_count": null,
   "metadata": {
    "collapsed": true
   },
   "outputs": [],
   "source": []
  },
  {
   "cell_type": "markdown",
   "metadata": {},
   "source": [
    "### 刪除資料"
   ]
  },
  {
   "cell_type": "code",
   "execution_count": 2,
   "metadata": {},
   "outputs": [
    {
     "name": "stdout",
     "output_type": "stream",
     "text": [
      "     0     1    2\n",
      "0  201  1474  617\n",
      "1  297   347  861\n",
      "\n",
      "    0       1      2\n",
      "0 NaN  1474.0    NaN\n",
      "1 NaN     NaN  861.0\n",
      "\n",
      "     0     1    2\n",
      "0  201  1374  617\n",
      "1  297   347  761\n"
     ]
    }
   ],
   "source": [
    "# 更新整個DataFrame物件\n",
    "\n",
    "import pandas as pd\n",
    "import numpy as np\n",
    "\n",
    "df = pd.DataFrame(np.random.randint(5, 1500, size=(2,3)))\n",
    "print(df)\n",
    "\n",
    "print()\n",
    "# 取得與更新整個DataFrame\n",
    "print(df[df > 800])\n",
    "\n",
    "print()\n",
    "df[df > 800] = df - 100\n",
    "print(df)\n"
   ]
  },
  {
   "cell_type": "code",
   "execution_count": 1,
   "metadata": {},
   "outputs": [
    {
     "name": "stdout",
     "output_type": "stream",
     "text": [
      "       city name  population\n",
      "first   台北市  中正區      159598\n",
      "second  新北市  板橋區      551452\n",
      "third   桃園市  桃園區      441287\n",
      "159598\n",
      "551452.0\n",
      "       city name  population\n",
      "first   台北市  中正區         NaN\n",
      "second  新北市  板橋區         NaN\n",
      "third   桃園市  桃園區    441287.0\n"
     ]
    }
   ],
   "source": [
    "# 刪除資料 –刪除純量值\n",
    "\n",
    "import pandas as pd\n",
    "\n",
    "df = pd.read_csv(\"dists.csv\", encoding=\"utf8\")\n",
    "ordinals =[\"first\", \"second\", \"third\", \"fourth\", \"fifth\",\n",
    "           \"sixth\", \"seventh\", \"eigth\", \"ninth\", \"tenth\",\n",
    "           \"eleventh\", \"twelvth\", \"thirteenth\"]  \n",
    "df.index = ordinals\n",
    "\n",
    "print(df.head(3))\n",
    "# 刪除純量值\n",
    "print(df.loc[ordinals[0], \"population\"])\n",
    "df.loc[ordinals[0], \"population\"] = None\n",
    "print(df.iloc[1,2])\n",
    "df.iloc[1,2] = None\n",
    "print(df.head(3))\n"
   ]
  },
  {
   "cell_type": "code",
   "execution_count": 3,
   "metadata": {},
   "outputs": [
    {
     "name": "stdout",
     "output_type": "stream",
     "text": [
      "       city name  population\n",
      "first   台北市  中正區      159598\n",
      "second  新北市  板橋區      551452\n",
      "third   桃園市  桃園區      441287\n",
      "fourth  台中市  北屯區      275207\n",
      "fifth   台南市  安南區      192327\n",
      "        city name  population\n",
      "first    台北市  中正區      159598\n",
      "third    桃園市  桃園區      441287\n",
      "fifth    台南市  安南區      192327\n",
      "sixth    高雄市  三民區      343203\n",
      "seventh  台北市  大安區      309835\n",
      "        city name  population\n",
      "first    台北市  中正區      159598\n",
      "second   新北市  板橋區      551452\n",
      "fifth    台南市  安南區      192327\n",
      "sixth    高雄市  三民區      343203\n",
      "seventh  台北市  大安區      309835\n"
     ]
    }
   ],
   "source": [
    "# drop()函數來刪除記錄\n",
    "\n",
    "import pandas as pd\n",
    "\n",
    "df = pd.read_csv(\"dists.csv\", encoding=\"utf8\")\n",
    "ordinals =[\"first\", \"second\", \"third\", \"fourth\", \"fifth\",\n",
    "           \"sixth\", \"seventh\", \"eigth\", \"ninth\", \"tenth\",\n",
    "           \"eleventh\", \"twelvth\", \"thirteenth\"]  \n",
    "df.index = ordinals\n",
    "\n",
    "print(df.head())\n",
    "# 刪除記錄\n",
    "df2 = df.drop([\"second\", \"fourth\"])    # 2,4 筆\n",
    "print(df2.head())\n",
    "\n",
    "df.drop(df.index[[2,3]], inplace=True) # 3,4 筆\n",
    "print(df.head())\n"
   ]
  },
  {
   "cell_type": "code",
   "execution_count": null,
   "metadata": {
    "collapsed": true
   },
   "outputs": [],
   "source": [
    "# 刪除欄位: 也是使用drop()函數，只是需要指定axis參數值是1，預設為0，就是刪除記錄（column)\n",
    "\n",
    "import pandas as pd\n",
    "\n",
    "df = pd.read_csv(\"dists.csv\", encoding=\"utf8\")\n",
    "ordinals =[\"first\", \"second\", \"third\", \"fourth\", \"fifth\",\n",
    "           \"sixth\", \"seventh\", \"eigth\", \"ninth\", \"tenth\",\n",
    "           \"eleventh\", \"twelvth\", \"thirteenth\"]  \n",
    "df.index = ordinals\n",
    "\n",
    "print(df.head(3))\n",
    "# 刪除欄位\n",
    "df2 = df.drop([\"population\"], axis=1)\n",
    "print(df2.head(3))\n"
   ]
  },
  {
   "cell_type": "code",
   "execution_count": null,
   "metadata": {
    "collapsed": true
   },
   "outputs": [],
   "source": [
    "### 新增資料"
   ]
  },
  {
   "cell_type": "code",
   "execution_count": 4,
   "metadata": {},
   "outputs": [
    {
     "name": "stdout",
     "output_type": "stream",
     "text": [
      "           city name  population\n",
      "eleventh    高雄市  鳳山區      359125\n",
      "twelvth     台北市  信義區      225561\n",
      "thirteenth  新北市  新店區      302070\n",
      "           city name  population\n",
      "twelvth     台北市  信義區      225561\n",
      "thirteenth  新北市  新店區      302070\n",
      "third-1     台北市  士林區      288340\n",
      "   city name  population\n",
      "12  新北市  新店區      302070\n",
      "13  台北市  士林區      288340\n",
      "14  新北市  中和區      413291\n"
     ]
    }
   ],
   "source": [
    "# 新增記錄（列）只需指定一個不存在的索引標籤，就可以新增記錄，我們也可以建立Series物件，然後使用append()函數來新增記錄\n",
    "\n",
    "import pandas as pd\n",
    "\n",
    "df = pd.read_csv(\"dists.csv\", encoding=\"utf8\")\n",
    "ordinals =[\"first\", \"second\", \"third\", \"fourth\", \"fifth\",\n",
    "           \"sixth\", \"seventh\", \"eigth\", \"ninth\", \"tenth\",\n",
    "           \"eleventh\", \"twelvth\", \"thirteenth\"]  \n",
    "df.index = ordinals\n",
    "\n",
    "print(df.tail(3))\n",
    "# 新增記錄\n",
    "df.loc[\"third-1\"] = [\"台北市\", \"士林區\", 288340]\n",
    "print(df.tail(3))\n",
    "\n",
    "s = pd.Series({\"city\":\"新北市\",\"name\":\"中和區\",\"population\":413291})\n",
    "df2 = df.append(s, ignore_index=True)\n",
    "print(df2.tail(3))"
   ]
  },
  {
   "cell_type": "code",
   "execution_count": null,
   "metadata": {
    "collapsed": true
   },
   "outputs": [],
   "source": [
    "#  活用新增記錄，即可配合for/in迴圈來建立DataFrame物件，首先使用loc索引器\n",
    "# 使用append()函數新增Series物件來建立DataFrame物件\n",
    "import pandas as pd\n",
    "\n",
    "df = pd.read_csv(\"dists.csv\", encoding=\"utf8\")\n",
    "ordinals =[\"first\", \"second\", \"third\", \"fourth\", \"fifth\",\n",
    "           \"sixth\", \"seventh\", \"eigth\", \"ninth\", \"tenth\",\n",
    "           \"eleventh\", \"twelvth\", \"thirteenth\"]  \n",
    "df.index = ordinals\n",
    "\n",
    "print(df.tail(3))\n",
    "# 新增記錄\n",
    "df.loc[\"third-1\"] = [\"台北市\", \"士林區\", 288340]\n",
    "print(df.tail(3))\n",
    "\n",
    "s = pd.Series({\"city\":\"新北市\",\"name\":\"中和區\",\"population\":413291})\n",
    "df2 = df.append(s, ignore_index=True)\n",
    "print(df2.tail(3))\n"
   ]
  },
  {
   "cell_type": "code",
   "execution_count": null,
   "metadata": {
    "collapsed": true
   },
   "outputs": [],
   "source": [
    "# 新增欄位: 指定一個不存在的欄位標籤，就可以新增欄位，我們可以使用清單、Series物件或NumPy陣列來指定欄位值\n",
    "\n",
    "import pandas as pd\n",
    "from numpy.random import randint\n",
    "\n",
    "df = pd.read_csv(\"dists.csv\", encoding=\"utf8\")\n",
    "ordinals =[\"first\", \"second\", \"third\", \"fourth\", \"fifth\",\n",
    "           \"sixth\", \"seventh\", \"eigth\", \"ninth\", \"tenth\",\n",
    "           \"eleventh\", \"twelvth\", \"thirteenth\"]  \n",
    "df.index = ordinals\n",
    "\n",
    "df[\"area\"] = pd.Series([randint(6000,9000) for n in range(len(df))]).values \n",
    "print(df.head())\n",
    "df.head().to_html(\"Ch9_4_3b_01.html\")\n",
    "df.loc[:,\"zip\"] = randint(100, 120, size=len(df))\n",
    "print(df.head())\n",
    "df.head().to_html(\"Ch9_4_3b_02.html\")"
   ]
  },
  {
   "cell_type": "markdown",
   "metadata": {},
   "source": [
    "### 連接與合併DataFrame物件"
   ]
  },
  {
   "cell_type": "markdown",
   "metadata": {},
   "source": [
    "### 建立空的和複製DataFrame物件\n",
    "\n",
    "* 對於現存DataFrame物件，我們可以建立一個形狀相同，但沒有資料的空DataFrame物件，也可以使用copy()函數在處理前備份DataFrame物件，如下所示：\n",
    "    * columns =[\"city\",\"name\", \"population\"]\n",
    "    * df_empty = pd.DataFrame(np.nan, index=ordinals, columns=columns)\n",
    "    * print(df_empty)\n",
    "\n",
    "* copy()函數可以複製DataFrame物件，如下所示：\n",
    "    * df_copy = df.copy()\n",
    "    * print(df_copy)\n"
   ]
  },
  {
   "cell_type": "code",
   "execution_count": null,
   "metadata": {
    "collapsed": true
   },
   "outputs": [],
   "source": [
    "import pandas as pd\n",
    "import numpy as np\n",
    "\n",
    "df = pd.read_csv(\"dists.csv\", encoding=\"utf8\")\n",
    "ordinals =[\"first\", \"second\", \"third\", \"fourth\", \"fifth\",\n",
    "           \"sixth\", \"seventh\", \"eigth\", \"ninth\", \"tenth\",\n",
    "           \"eleventh\", \"twelvth\", \"thirteenth\"]  \n",
    "df.index = ordinals\n",
    "\n",
    "columns =[\"city\",\"name\", \"population\"]\n",
    "# 建立空的DataFrame物件\n",
    "df_empty = pd.DataFrame(np.nan, index=ordinals, columns=columns)\n",
    "print(df_empty)\n",
    "# 複製DataFrame物件\n",
    "df_copy = df.copy()\n",
    "print(df_copy)"
   ]
  },
  {
   "cell_type": "code",
   "execution_count": null,
   "metadata": {
    "collapsed": true
   },
   "outputs": [],
   "source": [
    "# 連接多個DataFrame物件： 使用concat()函數連接多個DataFrame物件，資料筆數增加\n",
    "\n",
    "import pandas as pd\n",
    "from numpy.random import randint\n",
    "\n",
    "df1 = pd.DataFrame(randint(5,10,size=(3,4)),columns=[\"a\",\"b\",\"c\",\"d\"])  \n",
    "df2 = pd.DataFrame(randint(5,10,size=(2,3)),columns=[\"b\",\"d\",\"a\"])  \n",
    "print(df1)\n",
    "\n",
    "print()\n",
    "print(df2)\n",
    "\n",
    "print()\n",
    "df3 = pd.concat([df1,df2])  \n",
    "print(df3)\n",
    "print()\n",
    "\n",
    "df4 = pd.concat([df1,df2], ignore_index=True)  # 忽略索引標籤\n",
    "print(df4) "
   ]
  },
  {
   "cell_type": "code",
   "execution_count": null,
   "metadata": {
    "collapsed": true
   },
   "outputs": [],
   "source": [
    "# 合併2個DataFrame物件: merge()函數可以左右合併2個DataFrame物件（類似SQL合併查詢），資料欄位增加\n",
    "\n",
    "import pandas as pd\n",
    "\n",
    "df1 = pd.DataFrame({\"key\":[\"a\",\"b\",\"b\"],\"data1\":range(3)})  \n",
    "df2 = pd.DataFrame({\"key\":[\"a\",\"b\",\"c\"],\"data2\":range(3)})  \n",
    "print(df1)\n",
    "print(df2)\n",
    "\n",
    "\n",
    "df3 = pd.merge(df1, df2)\n",
    "print(df3)\n",
    "\n",
    "\n",
    "df4 = pd.merge(df2, df1)\n",
    "print(df4)\n",
    "\n",
    "\n",
    "df5 = pd.merge(df2, df1, how='left')\n",
    "print(df5)\n"
   ]
  },
  {
   "cell_type": "markdown",
   "metadata": {},
   "source": [
    "## 群組、樞紐分析與套用函數"
   ]
  },
  {
   "cell_type": "markdown",
   "metadata": {},
   "source": [
    "### 群組\n",
    "先將資料依條件分類成群組後，再套用相關函數在各群組來取得一些統計資料"
   ]
  },
  {
   "cell_type": "code",
   "execution_count": null,
   "metadata": {
    "collapsed": true
   },
   "outputs": [],
   "source": [
    "import pandas as pd\n",
    "import numpy as np\n",
    "\n",
    "df = pd.DataFrame({\"名稱\" : [\"客戶A\", \"客戶B\", \"客戶A\", \"客戶B\",\n",
    "                             \"客戶A\", \"客戶B\", \"客戶A\", \"客戶A\"],\n",
    "                   \"編號\" : [\"訂單1\", \"訂單1\", \"訂單2\", \"訂單3\",\n",
    "                             \"訂單2\", \"訂單2\", \"訂單1\", \"訂單3\"],\n",
    "                   \"數量\" : np.random.randint(1,5,size=8),\n",
    "                   \"售價\" : np.random.randint(150,500,size=8)})\n",
    "\n",
    "print(df)\n",
    "\n",
    "print()\n",
    "print(df.groupby(\"名稱\").sum())\n",
    "\n",
    "print()\n",
    "print(df.groupby([\"名稱\",\"編號\"]).sum())\n"
   ]
  },
  {
   "cell_type": "markdown",
   "metadata": {},
   "source": [
    "### 樞紐分析表\n",
    "使用pivot_table()函數以欄位值為標籤來重塑DataFrame物件的形狀，也就是建立樞紐分析表\n",
    "pivot_products = products.pivot_table(index='分類',\n",
    "                                  columns='商店',\n",
    "                                  values='價格')\n"
   ]
  },
  {
   "cell_type": "code",
   "execution_count": 50,
   "metadata": {},
   "outputs": [
    {
     "name": "stdout",
     "output_type": "stream",
     "text": [
      "   分類   商店      價格  測試分數\n",
      "0  居家  家樂福   11.42     4\n",
      "1  居家   頂好   23.50     3\n",
      "2  娛樂  家樂福   19.99     5\n",
      "3  娛樂   全聯   15.95     7\n",
      "4  科技   頂好   55.75     5\n",
      "5  科技  家樂福  111.55     8\n",
      "\n",
      "商店     全聯     家樂福     頂好\n",
      "分類                      \n",
      "娛樂  15.95   19.99    NaN\n",
      "居家    NaN   11.42  23.50\n",
      "科技    NaN  111.55  55.75\n"
     ]
    }
   ],
   "source": [
    "import pandas as pd\n",
    "\n",
    "products = pd.DataFrame({\n",
    "        \"分類\": [\"居家\", \"居家\", \"娛樂\", \"娛樂\", \"科技\", \"科技\"],\n",
    "        \"商店\": [\"家樂福\", \"頂好\", \"家樂福\", \"全聯\", \"頂好\",\"家樂福\"],\n",
    "        \"價格\":[11.42, 23.50, 19.99, 15.95, 55.75, 111.55],\n",
    "        \"測試分數\": [4, 3, 5, 7, 5, 8]})\n",
    "print(products)\n",
    "\n",
    "print()\n",
    "# 呼叫 pivot_table() 方法\n",
    "pivot_products = products.pivot_table(index='分類',columns='商店',values='價格')\n",
    "print(pivot_products)\n"
   ]
  },
  {
   "cell_type": "code",
   "execution_count": null,
   "metadata": {
    "collapsed": true
   },
   "outputs": [],
   "source": [
    "import pandas as pd\n",
    "\n",
    "products = pd.DataFrame({\n",
    "        \"分類\": [\"居家\", \"居家\", \"居家\", \"娛樂\", \"科技\", \"科技\"],\n",
    "        \"商店\": [\"家樂福\", \"頂好\", \"家樂福\", \"全聯\", \"頂好\",\"家樂福\"],\n",
    "        \"價格\":[11.42, 23.50, 19.99, 15.95, 55.75, 111.55],\n",
    "        \"測試分數\": [4, 3, 5, 7, 5, 8]})\n",
    "print(products)\n",
    "\n",
    "print()\n",
    "# 呼叫 pivot_table() 方法\n",
    "pivot_products = products.pivot_table(index='分類',columns='商店',values='價格')  # 有兩個相同的居家、加樂福，會作平均\n",
    "print(pivot_products)\n"
   ]
  },
  {
   "cell_type": "markdown",
   "metadata": {},
   "source": [
    "### 套用函式\n",
    "可以使用apply()函數在資料套用NumPy函數或Lambda運算式"
   ]
  },
  {
   "cell_type": "code",
   "execution_count": 20,
   "metadata": {},
   "outputs": [
    {
     "name": "stdout",
     "output_type": "stream",
     "text": [
      "          A         B         C         D\n",
      "0  0.630607  0.860896  0.851542  0.445437\n",
      "1  0.424383  0.397834  0.588991  0.634624\n",
      "2  0.542138  0.477467  0.858040  0.314643\n",
      "3  0.559653  0.636810  0.527313  0.395726\n",
      "4  0.194393  0.847865  0.127343  0.627266\n",
      "5  0.614686  0.925169  0.001610  0.922082\n",
      "\n",
      "          A         B         C         D\n",
      "0  0.630607  0.860896  0.851542  0.445437\n",
      "1  1.054990  1.258730  1.440533  1.080061\n",
      "2  1.597128  1.736197  2.298573  1.394703\n",
      "3  2.156781  2.373007  2.825885  1.790430\n",
      "4  2.351175  3.220872  2.953228  2.417696\n",
      "5  2.965861  4.146041  2.954838  3.339777\n",
      "\n",
      "A    0.436214\n",
      "B    0.527335\n",
      "C    0.856430\n",
      "D    0.607439\n",
      "dtype: float64\n"
     ]
    }
   ],
   "source": [
    "# cumsum()函數的累加計算，使用時只須寫函式名稱，無()\n",
    "# Lambda運算式計算最大和最小值的差\n",
    "\n",
    "import pandas as pd\n",
    "import numpy as np\n",
    "\n",
    "df = pd.DataFrame(np.random.rand(6,4), columns=list(\"ABCD\"))  # list(\"ABCD\") 作為欄位的名稱\n",
    "print(df)\n",
    "\n",
    "print()\n",
    "df2 = df.apply(np.cumsum)   # 累加計算\n",
    "print(df2)\n",
    "\n",
    "print()\n",
    "df3 = df.apply(lambda x: x.max() - x.min())  # 計算最大和最小值的差\n",
    "print(df3)"
   ]
  },
  {
   "cell_type": "code",
   "execution_count": null,
   "metadata": {
    "collapsed": true
   },
   "outputs": [],
   "source": [
    "參考書目：\n",
    "\n",
    "陳允傑（2018）。Python資料科學與人工智慧應用實務。 台北：旗標。"
   ]
  }
 ],
 "metadata": {
  "kernelspec": {
   "display_name": "Python 3",
   "language": "python",
   "name": "python3"
  },
  "language_info": {
   "codemirror_mode": {
    "name": "ipython",
    "version": 3
   },
   "file_extension": ".py",
   "mimetype": "text/x-python",
   "name": "python",
   "nbconvert_exporter": "python",
   "pygments_lexer": "ipython3",
   "version": "3.7.9"
  }
 },
 "nbformat": 4,
 "nbformat_minor": 2
}
