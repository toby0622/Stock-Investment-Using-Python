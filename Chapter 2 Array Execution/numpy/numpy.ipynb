{
 "cells": [
  {
   "cell_type": "markdown",
   "metadata": {},
   "source": [
    "#   NumPy (Numeric Python 或 Numerical Python)\n",
    "製作者：賴志宏   \n",
    "建立日期：2017.11.05  \n",
    "最後修改日期: 2020.11.04"
   ]
  },
  {
   "cell_type": "markdown",
   "metadata": {},
   "source": [
    "## Numpy"
   ]
  },
  {
   "cell_type": "code",
   "execution_count": null,
   "metadata": {
    "collapsed": true
   },
   "outputs": [],
   "source": [
    "* NumPy 提供一維、二維、和多維的陣列物件，與相關延伸的物件\n",
    "* 支援高效率陣列的數學、邏輯、維度操作、排序、選取元素，和基本線性岱術語統計等多種數學函式的函式庫"
   ]
  },
  {
   "cell_type": "markdown",
   "metadata": {},
   "source": [
    "NumPy 的核心是ndarray，他是相同資料型態元素所組成的陣列，與Python的清單List之差異為： \n",
    "* 資料結構和C語言一樣，為元素數目固定，且所屬的元素都是同一種資料型別 (python的list允許不同的資料型別，且元素數目可以變動)  \n",
    "* NumPy陣列是固定尺寸，若是更改物件尺寸就是重新建立全新的陣列，Python的List是容器，不用指定尺寸\n"
   ]
  },
  {
   "cell_type": "code",
   "execution_count": null,
   "metadata": {
    "collapsed": true
   },
   "outputs": [],
   "source": [
    "為什麼使用NumPy& Pandas:\n",
    ".支援多維陣列與矩陣運算，針對陣列提供大量的數學函式，方便處理數學問題，例如傅立葉轉換、線性代數、多項式等\n",
    ".運算速度快:numpy和pandas 都是採用C 語言編寫, pandas 又是基於numpy, 是numpy的升級版，且採用的是矩陣運算，會比python 自帶的字典或者列表快好多\n",
    ".消耗資源少"
   ]
  },
  {
   "cell_type": "code",
   "execution_count": null,
   "metadata": {},
   "outputs": [],
   "source": [
    "### 顯示函式的說明文件\n",
    "\n",
    "* numpy.函式名稱?\n",
    "* numpy.sin?"
   ]
  },
  {
   "cell_type": "code",
   "execution_count": 10,
   "metadata": {},
   "outputs": [
    {
     "name": "stdout",
     "output_type": "stream",
     "text": [
      "1\n"
     ]
    }
   ],
   "source": [
    "import numpy as np\n",
    "np.sin?\n",
    "print(1)"
   ]
  },
  {
   "cell_type": "markdown",
   "metadata": {},
   "source": [
    "### official website:\n",
    "http://www.numpy.org/\n",
    "    "
   ]
  },
  {
   "cell_type": "code",
   "execution_count": 4,
   "metadata": {},
   "outputs": [
    {
     "data": {
      "text/plain": [
       "'1.13.3'"
      ]
     },
     "execution_count": 4,
     "metadata": {},
     "output_type": "execute_result"
    }
   ],
   "source": [
    "# show numpy version\n",
    "import numpy\n",
    "numpy.__version__"
   ]
  },
  {
   "cell_type": "code",
   "execution_count": 1,
   "metadata": {},
   "outputs": [
    {
     "name": "stdout",
     "output_type": "stream",
     "text": [
      "[10 15 20]\n",
      "<class 'numpy.ndarray'>\n"
     ]
    }
   ],
   "source": [
    "# 使用 import .. as ..\n",
    "import numpy as np\n",
    "arr1 = np.array([10, 15, 20])\n",
    "print(arr1)\n",
    "print(type(arr1))"
   ]
  },
  {
   "cell_type": "markdown",
   "metadata": {},
   "source": [
    "### Basic properties:\n",
    "\n",
    "* NumPy套件所提供的陣列型別稱為 ndarray (n-dimension array)  \n",
    "* ndarray型別的重要屬性：   \n",
    " * ndarray.ndim:陣列的維度  \n",
    " * ndarray.shape:陣列的形狀(用tuple表示)，每個整數表示各維度的元素個數  \n",
    " * ndarray.size:元素的個數  \n",
    " * ndarray.dtype:元素的資料型別，包含python內建的int, bool, str等，註：type()是看整個物件的資料型別  \n",
    "     也可以是NumPy套件提供的numpy.int32, numpy.int16, numpy.float64等  \n",
    " * ndarray.itemsize:陣列元素的位元組數  "
   ]
  },
  {
   "cell_type": "code",
   "execution_count": 4,
   "metadata": {},
   "outputs": [
    {
     "name": "stdout",
     "output_type": "stream",
     "text": [
      "[[1 2 3]\n",
      " [4 5 6]] \n",
      "\n",
      "維度: 2\n",
      "行列: (2, 3)\n",
      "行列: 2\n",
      "行列: 3\n",
      "元素的個數: 6\n",
      "array[0]元素的個數: 3\n",
      "元素的資料型別: int32\n",
      "元素的位元組數: 4\n",
      "<class 'numpy.ndarray'>\n"
     ]
    }
   ],
   "source": [
    "import numpy as np \n",
    "array = np.array([[1,2,3],[4,5,6]])  \n",
    "print(array, '\\n')\n",
    "print('維度:',array.ndim) \n",
    "print('行列:',array.shape) # 列與行數\n",
    "print('行列:',array.shape[0]) # 列數 (row number)\n",
    "print('行列:',array.shape[1]) # 行數 (column number)\n",
    "print('元素的個數:',array.size) \n",
    "print('array[0]元素的個數:',array[0].size) \n",
    "print('元素的資料型別:',array.dtype) # 看每個元素的資料型態\n",
    "print('元素的位元組數:',array.itemsize) \n",
    "print(type(array))   # 看整個資料的資料型態"
   ]
  },
  {
   "cell_type": "markdown",
   "metadata": {
    "collapsed": true
   },
   "source": [
    "### 建立一維陣列的方式:\n",
    "1. 使用array()將其它格式的資料轉為陣列：\n",
    " * a = np.array([1, 3, 5, 7, 9])  # 將串列list轉為numpy陣列，每個元素為整數  \n",
    " * b = np.array((1, 3, 5, 7, 9))  # 將元組tuple轉為numpy陣列，每個元素為整數  \n",
    " * c = np.array({1, 3, 5, 7, 9})  # 將集合set轉為numpy陣列，每個元素為物件  \n",
    " --> 所以：一般是使用清單或元組來建立Numpy的一維陣列\n",
    "2. 使用arange():(註：Python的range只能用在整數，np.arange可以是浮點數）\n",
    "    arange(起始值, 終止值, 間隔值, dtype=資料型態)\n",
    "    其中的參數可以省略，和python的range()使用方法類似   # 不會包含終止值\n",
    "3. 使用linspace()建立平均分布的數值  # linear space\n",
    "   linspace(起始值, 終止值, 元素個數, dtype=資料型態)  #會包含終止值\n",
    "4. 使用其他函式，例如zeros(), ones(), random.random(), np.random.randint()"
   ]
  },
  {
   "cell_type": "code",
   "execution_count": 9,
   "metadata": {},
   "outputs": [
    {
     "name": "stdout",
     "output_type": "stream",
     "text": [
      "[1 3 5 7 9] [1 3 5 7 9] {1, 3, 5, 7, 9}\t\n",
      "int32 int32 object\n",
      "\n",
      "<class 'numpy.ndarray'> <class 'numpy.ndarray'> <class 'numpy.ndarray'>\n",
      "[  1   3   5 100   9] [  1   3   5 100   9] {1, 3, 5, 7, 9}\t"
     ]
    }
   ],
   "source": [
    "import numpy as np \n",
    "a = np.array([1, 3, 5, 7, 9])\n",
    "b = np.array((1, 3, 5, 7, 9))\n",
    "c = np.array({1, 3, 5, 7, 9})\n",
    "print(a, b, c, end = '\\t')\n",
    "print()\n",
    "print(a.dtype, b.dtype, c.dtype)   # 看每個元素的資料型態\n",
    "print()\n",
    "print(type(a), type(b), type(c))   # 看整個資料的資料型態\n",
    "\n",
    "a[3] = 100\n",
    "b[3] = 100\n",
    "#c[3] = 100  # 會出錯\n",
    "print(a, b, c, end = '\\t')\n"
   ]
  },
  {
   "cell_type": "code",
   "execution_count": 11,
   "metadata": {},
   "outputs": [
    {
     "name": "stdout",
     "output_type": "stream",
     "text": [
      "[5 2 8 4 5 6]\n",
      "[ 5.  2.  8.  4.  5.  6.]\n",
      "int32 float64\n"
     ]
    }
   ],
   "source": [
    "import numpy as np \n",
    "arr1 = np.array([5,2,8,4,5,6]) \n",
    "arr2 = np.array([5,2,8,4,5,6], dtype = float)\n",
    "print(arr1, arr2, sep = '\\n')\n",
    "print(arr1.dtype, arr2.dtype)"
   ]
  },
  {
   "cell_type": "code",
   "execution_count": 10,
   "metadata": {},
   "outputs": [
    {
     "name": "stdout",
     "output_type": "stream",
     "text": [
      "[0 1 2 3 4]\n",
      "[3 4 5 6 7 8 9]\n",
      "[ 3.   3.5  4.   4.5  5.   5.5  6.   6.5  7.   7.5  8.   8.5  9.   9.5]\n",
      "[ 3.   3.8  4.6  5.4  6.2  7.   7.8  8.6  9.4]\n"
     ]
    }
   ],
   "source": [
    "# 使用arange():\n",
    "#     arange(起始值, 終止值, 間隔值, dtype=資料型態)\n",
    "#     其中的參數可以省略，和python的range()使用方法類似   # 不會包含終止值\n",
    "import numpy as np \n",
    "arr1 = np.arange(5)  # 不含5\n",
    "arr2 = np.arange(3, 10)\n",
    "arr3 = np.arange(3, 10, 0.5)\n",
    "arr4 = np.arange(3, 10, 0.8, dtype = float)\n",
    "print(arr1, arr2, arr3, arr4, sep = '\\n')"
   ]
  },
  {
   "cell_type": "code",
   "execution_count": 3,
   "metadata": {},
   "outputs": [
    {
     "name": "stdout",
     "output_type": "stream",
     "text": [
      "[  0.           0.52631579   1.05263158   1.57894737   2.10526316\n",
      "   2.63157895   3.15789474   3.68421053   4.21052632   4.73684211\n",
      "   5.26315789   5.78947368   6.31578947   6.84210526   7.36842105\n",
      "   7.89473684   8.42105263   8.94736842   9.47368421  10.        ]\n"
     ]
    }
   ],
   "source": [
    "import numpy as np \n",
    "arr1 = np.linspace(0, 10, 20)  # 包含 10，注意最後一個引數是指共有20個，也就是分為19個間隔，若是要每個間隔0.5，要使用21\n",
    "print(arr1)"
   ]
  },
  {
   "cell_type": "code",
   "execution_count": 23,
   "metadata": {},
   "outputs": [
    {
     "name": "stdout",
     "output_type": "stream",
     "text": [
      "[ 3  6  9 12 15 18]\n",
      "[0 1 2 3 4 5]\n",
      "[ 0.  0.  0.  0.  0.  0.]\n",
      "[1 1 1 1 1 1]\n",
      "[ 0.11784684  0.93903155  0.23420872  0.19633984  0.40961686  0.05795418]\n",
      "[90 62  4 60 31 99 96 25 55 90]\n"
     ]
    }
   ],
   "source": [
    "# arange()、zeros()、ones()和full()函數外，還提供更多函數來建立各種預設內容的陣列\n",
    "import numpy as np\n",
    "a=np.array([3,6,9,12,15,18])\n",
    "b=np.arange(6) # 0 .. 6 但不含6\n",
    "c = np.zeros(6) # 數據全為0，6個\n",
    "d = np.ones(6, dtype = np.int) # 數據為1，6個，整數\n",
    "e = np.random.random(6) # 6個亂數 0 .. <1\n",
    "f = np.random.randint(1, 100, 10) # 10個1至100(不含)的整數，若使用random.randint()會產生包含100（終止值）的亂數，\n",
    "\n",
    "print(a,b,c,d,e,f, sep=\"\\n\")\n"
   ]
  },
  {
   "cell_type": "code",
   "execution_count": 7,
   "metadata": {},
   "outputs": [
    {
     "name": "stdout",
     "output_type": "stream",
     "text": [
      "[[1 2 3]\n",
      " [4 5 6]]\n",
      "\n",
      "[[0 0 0]\n",
      " [0 0 0]]\n",
      "\n",
      "[[1 1 1]\n",
      " [1 1 1]]\n",
      "\n",
      "[[ 1.  0.  0.]\n",
      " [ 0.  1.  0.]\n",
      " [ 0.  0.  1.]]\n",
      "\n",
      "[[ 0.  1.  0.]\n",
      " [ 0.  0.  1.]\n",
      " [ 0.  0.  0.]]\n",
      "\n",
      "[ 0.59196246  0.16613742  0.04796665]\n",
      "\n",
      "[[ 0.64410487  0.65770345  0.00733402]\n",
      " [ 0.47207714  0.6365783   0.56624903]\n",
      " [ 0.31277487  0.02469161  0.34307369]]\n"
     ]
    }
   ],
   "source": [
    "# NumPy的zeros_like()和ones_like()函數可以依據參數的範本陣列形狀，產生相同尺寸元素值都是0或1的陣列，\n",
    "\n",
    "import numpy as np\n",
    "\n",
    "a = np.array([[1,2,3],[4,5,6]])\n",
    "b = np.zeros_like(a)\n",
    "print(a)\n",
    "print()\n",
    "print(b)\n",
    "\n",
    "print()\n",
    "c = np.ones_like(a)  \n",
    "print(c)\n",
    "\n",
    "print()\n",
    "d = np.eye(3)  # 對角線都是1\n",
    "print(d)\n",
    "\n",
    "print()\n",
    "e = np.eye(3, k=1)  # 從索引的1開始，對角線都是1，也就是從[0,1]的位置的斜對角開始為1\n",
    "print(e)\n",
    "\n",
    "print()\n",
    "f = np.random.rand(3)\n",
    "print(f)\n",
    "print()\n",
    "g = np.random.rand(3,3)\n",
    "print(g)  "
   ]
  },
  {
   "cell_type": "code",
   "execution_count": 3,
   "metadata": {},
   "outputs": [
    {
     "name": "stdout",
     "output_type": "stream",
     "text": [
      "[6 6]\n",
      "\n",
      "[[5 5 5]\n",
      " [5 5 5]\n",
      " [5 5 5]]\n"
     ]
    }
   ],
   "source": [
    "# 用某一數字填滿整個陣列\n",
    "\n",
    "import numpy as np\n",
    "\n",
    "a = np.full(2, 6)  #有兩個元素，每個都是6\n",
    "print(a)\n",
    "\n",
    "print()\n",
    "b = np.full((3,3), 5)\n",
    "print(b)"
   ]
  },
  {
   "cell_type": "code",
   "execution_count": 1,
   "metadata": {},
   "outputs": [
    {
     "name": "stdout",
     "output_type": "stream",
     "text": [
      "[46 68 74 98 76 28 25 38 22 24]\n",
      "1 2 1 1 1 1 2 2 2 1 3 1 2 2 2 3 3 1 1 3 3 2 2 2 1 1 1 2 3 1 2 3 1 3 2 3 2 2 1 3 1 1 1 1 3 3 1 1 1 3 2 1 3 2 2 3 1 3 3 1 2 1 1 2 3 2 1 1 3 1 3 3 3 1 3 1 3 3 1 3 2 2 1 2 2 2 1 3 1 1 3 1 1 2 1 2 3 2 2 2 "
     ]
    }
   ],
   "source": [
    "import numpy as np\n",
    "\n",
    "f = np.random.randint(1, 100, 10) # 10個1至100(不含)的整數，np.random.randint()不包含終止值100\n",
    "print(f)\n",
    "\n",
    "import random\n",
    "for i in range(100):\n",
    "    print(random.randint(1, 3), end = \" \")  # random.randint()會包含終止值3"
   ]
  },
  {
   "cell_type": "markdown",
   "metadata": {},
   "source": [
    "### 多維陣列的建立:\n",
    "1. 使用numpy.array\n",
    "   a=np.array([[3,6,9],[12,15,18]])   \n",
    "2. 先使用上述方法建立一維陣列，再使用reshape()函式轉換成多維陣列:\n",
    "    "
   ]
  },
  {
   "cell_type": "code",
   "execution_count": 32,
   "metadata": {},
   "outputs": [
    {
     "name": "stdout",
     "output_type": "stream",
     "text": [
      "[[ 3  6  9]\n",
      " [12 15 18]]\n",
      "\n",
      "[[1 2 3]\n",
      " [4 5 6]\n",
      " [7 8 9]]\n",
      "\n",
      "[[51 78  7]\n",
      " [70 96 99]\n",
      " [34 92 87]\n",
      " [25 60 58]]\n",
      "\n",
      "[[ 3  6]\n",
      " [ 9 12]\n",
      " [15 18]]\n",
      "\n",
      "[[ 1  2  3  4  5]\n",
      " [ 6  7  8  9 10]\n",
      " [11 12 13 14 15]]\n"
     ]
    }
   ],
   "source": [
    "a = np.array([[3,6,9],[12,15,18]])\n",
    "b = np.array([1, 2, 3, 4, 5, 6, 7, 8, 9]).reshape(3,3)\n",
    "c = np.random.randint(1, 100, 12).reshape(4,3) # 12個1至100(不含)的整數\n",
    "d = a.reshape(3, 2)\n",
    "e = np.arange(1, 16).reshape(3, 5)\n",
    "print(a,b,c,d,e, sep=\"\\n\\n\")"
   ]
  },
  {
   "cell_type": "code",
   "execution_count": 2,
   "metadata": {
    "scrolled": true
   },
   "outputs": [
    {
     "name": "stdout",
     "output_type": "stream",
     "text": [
      "[[ 3  6  9]\n",
      " [12 15 18]]\n",
      "[[0 1 2]\n",
      " [3 4 5]]\n",
      "[[ 0.  0.  0.]\n",
      " [ 0.  0.  0.]]\n",
      "[[1 1 1]\n",
      " [1 1 1]]\n",
      "[[ 0.09531017  0.96015661  0.50065818]\n",
      " [ 0.35205021  0.56587427  0.01304847]]\n"
     ]
    }
   ],
   "source": [
    "import numpy as np\n",
    "a=np.array([[3,6,9],[12,15,18]])\n",
    "b=np.arange(6).reshape(2,3) \n",
    "c = np.zeros((2,3)) # 數據全為0，不能用c = np.zeros(2,3)\n",
    "d = np.ones((2,3), dtype = np.int) # 數據為1，6個\n",
    "e = np.random.random((2,3)) #亂數，6個\n",
    "print(a,b,c,d,e, sep=\"\\n\")\n"
   ]
  },
  {
   "cell_type": "markdown",
   "metadata": {},
   "source": [
    "## 走訪陣列"
   ]
  },
  {
   "cell_type": "code",
   "execution_count": 5,
   "metadata": {},
   "outputs": [
    {
     "name": "stdout",
     "output_type": "stream",
     "text": [
      "1\n",
      "2\n",
      "3\n",
      "4\n",
      "5\n"
     ]
    }
   ],
   "source": [
    "import numpy as np\n",
    "\n",
    "a = np.array([1, 2, 3, 4, 5])\n",
    "for ele in a:\n",
    "    print(ele)"
   ]
  },
  {
   "cell_type": "code",
   "execution_count": 6,
   "metadata": {},
   "outputs": [
    {
     "name": "stdout",
     "output_type": "stream",
     "text": [
      "[1 2]\n",
      "[3 4]\n",
      "[5 6]\n",
      "1  2  3  4  5  6  "
     ]
    }
   ],
   "source": [
    "import numpy as np\n",
    "\n",
    "a = np.array([[1, 2], [3, 4], [5, 6]])\n",
    "for ele in a:\n",
    "    print(ele)\n",
    "\n",
    "for ele in a:\n",
    "    for item in ele:\n",
    "        print(str(item), end=\"  \")"
   ]
  },
  {
   "cell_type": "markdown",
   "metadata": {},
   "source": [
    "## 取出子陣列"
   ]
  },
  {
   "cell_type": "code",
   "execution_count": 4,
   "metadata": {},
   "outputs": [
    {
     "name": "stdout",
     "output_type": "stream",
     "text": [
      "a=[1 2 3 4 5 6 7 8 9]\n",
      "a[1:3]=[2 3]\n",
      "a[:4]=[1 2 3 4]\n",
      "a[3:]=[4 5 6 7 8 9]\n",
      "a[2:9:3]=[3 6 9]\n",
      "a[::2]=[1 3 5 7 9]\n",
      "a[::-1]=[9 8 7 6 5 4 3 2 1]\n",
      "a[2:-2]=[3 4 5 6 7]\n"
     ]
    }
   ],
   "source": [
    "import numpy as np\n",
    "\n",
    "a = np.array([1, 2, 3, 4, 5, 6, 7, 8, 9])\n",
    "print(\"a=\" + str(a))    # str(a) 內容為'[1 2 3 4 5 6 7 8 9]'\n",
    "\n",
    "b = a[1:3]     # 索引 1,2\n",
    "print(\"a[1:3]=\" + str(b))\n",
    "b = a[:4]      # 索引 0,1,2,3\n",
    "print(\"a[:4]=\" + str(b))\n",
    "b = a[3:]      # 索引 3,4,5,6,7,8\n",
    "print(\"a[3:]=\" + str(b))\n",
    "b = a[2:9:3]   # 索引 2,5,8\n",
    "print(\"a[2:9:3]=\" + str(b))\n",
    "b = a[::2]     # 索引 0,2,4,6,8\n",
    "print(\"a[::2]=\" + str(b))\n",
    "b = a[::-1]    # 索引 8,7,6,5,4,3,2,1,0\n",
    "print(\"a[::-1]=\" + str(b))\n",
    "b = a[2:-2]    # 索引 8,7,6,5,4,3,2,1,0\n",
    "print(\"a[2:-2]=\" + str(b))"
   ]
  },
  {
   "cell_type": "code",
   "execution_count": 6,
   "metadata": {},
   "outputs": [
    {
     "name": "stdout",
     "output_type": "stream",
     "text": [
      "a=[1 2 3 4 5 6 7 8 9]\n",
      "1 3 9\n",
      "a[[1,3,5,7]]=[2 4 6 8]\n",
      "a[range(6)]=[1 2 3 4 5 6]\n",
      "a[[2,6]]=10->[ 1  2 10  4  5  6 10  8  9]\n"
     ]
    }
   ],
   "source": [
    "# 給一個索引清單，取出選擇元素來建立新陣列\n",
    "\n",
    "import numpy as np\n",
    "\n",
    "a = np.array([1, 2, 3, 4, 5, 6, 7, 8, 9])\n",
    "print(\"a=\" + str(a))\n",
    "\n",
    "print(a[0], a[2], a[-1])  # 索引 0,2,最後1個 \n",
    "b = a[[1, 3, 5, 7]]       # 索引 1,3,5,7\n",
    "print(\"a[[1,3,5,7]]=\" + str(b))\n",
    "b = a[range(6)]           # 索引 0,1,2,3,4,5\n",
    "print(\"a[range(6)]=\" + str(b))\n",
    "a[[2, 6]] = 10            # 同時更改多個索引值\n",
    "print(\"a[[2,6]]=10->\" + str(a))"
   ]
  },
  {
   "cell_type": "code",
   "execution_count": 9,
   "metadata": {},
   "outputs": [
    {
     "name": "stdout",
     "output_type": "stream",
     "text": [
      "a=[14  8 10 11  6  3 18 13 12  9]\n",
      "mask=[False False False False  True  True  True False  True  True]\n",
      "a[mask]=[ 6  3 18 12  9]\n",
      "a[a%3==0]=-1->[14  8 10 11 -1 -1 -1 13 -1 -1]\n"
     ]
    }
   ],
   "source": [
    "# 使用布林陣列，這是相同大小的布林值陣列，如果元素值是True，表示選擇對應的元素；反之False，就不選擇\n",
    "\n",
    "import numpy as np\n",
    "\n",
    "a = np.array([14,8,10,11,6,3,18,13,12,9])\n",
    "print(\"a=\" + str(a))\n",
    "mask = (a % 3 == 0)        # 建立布林值陣列\n",
    "print(\"mask=\" + str(mask))\n",
    "b = a[mask]                # 使用布林值陣列取出值\n",
    "print(\"a[mask]=\" + str(b))\n",
    "a[a % 3 == 0] = -1         # 同時更改多個True索引\n",
    "print(\"a[a%3==0]=-1->\" + str(a))"
   ]
  },
  {
   "cell_type": "code",
   "execution_count": 12,
   "metadata": {},
   "outputs": [
    {
     "name": "stdout",
     "output_type": "stream",
     "text": [
      "a=\n",
      "[[ 1  2  3]\n",
      " [ 4  5  6]\n",
      " [ 7  8  9]\n",
      " [10 11 12]]\n",
      "\n",
      "a[[0,1,2],[0,1,0]]=\n",
      "[1 5 7]\n",
      "\n",
      "np.array([a[0,0],a[1,1],a[2,0]])\n",
      "[1 5 7]\n",
      "\n",
      "idx=[0 2 0 1]\n",
      "a[np.arange(4),idx]=\n",
      "[ 1  6  7 11]\n",
      "\n",
      "a[np.arange(4), idx] += 10->\n",
      "[[11  2  3]\n",
      " [ 4  5 16]\n",
      " [17  8  9]\n",
      " [10 21 12]]\n"
     ]
    }
   ],
   "source": [
    "# 使用複雜索引取出元素 \n",
    "\n",
    "import numpy as np\n",
    "\n",
    "a = np.array([[1,2,3],[4,5,6],[7,8,9],[10,11,12]])\n",
    "print(\"a=\")\n",
    "print(a)\n",
    "\n",
    "print()\n",
    "b = a[[0,1,2],[0,1,0]]   # 索引 [0,0][1,1][2,0]\n",
    "print(\"a[[0,1,2],[0,1,0]]=\")\n",
    "print(b)\n",
    "\n",
    "print()\n",
    "b = np.array([a[0,0],a[1,1],a[2,0]])  # 索引 [0,0][1,1][2,0]\n",
    "print(\"np.array([a[0,0],a[1,1],a[2,0]])=\")\n",
    "print(b)\n",
    "\n",
    "print()\n",
    "idx = np.array([0, 2, 0, 1])\n",
    "print(\"idx=\" + str(idx))\n",
    "b = a[np.arange(4), idx]     # 索引 [0,0][1,2][2,0][3,1]\n",
    "print(\"a[np.arange(4),idx]=\")\n",
    "print(b)\n",
    "\n",
    "print()\n",
    "a[np.arange(4), idx] += 10\n",
    "print(\"a[np.arange(4), idx] += 10->\")\n",
    "print(a)"
   ]
  },
  {
   "cell_type": "code",
   "execution_count": 17,
   "metadata": {},
   "outputs": [
    {
     "name": "stdout",
     "output_type": "stream",
     "text": [
      "a=\n",
      "[[1 2]\n",
      " [3 4]\n",
      " [5 6]]\n",
      "\n",
      "mask=\n",
      "[[False False]\n",
      " [ True  True]\n",
      " [ True  True]]\n",
      "\n",
      "a[mask]=[3 4 5 6]\n",
      "\n",
      "a[a>2]=-1->\n",
      "[[ 1  2]\n",
      " [-1 -1]\n",
      " [-1 -1]]\n"
     ]
    }
   ],
   "source": [
    "# 使用整數值索引\n",
    "\n",
    "import numpy as np\n",
    "\n",
    "a = np.array([[1,2],[3,4],[5,6]])\n",
    "print(\"a=\")\n",
    "print(a)\n",
    "\n",
    "print()\n",
    "mask = (a > 2)\n",
    "print(\"mask=\")\n",
    "print(mask)\n",
    "\n",
    "b = a[mask]           # 使用布林值陣列取出值\n",
    "print()\n",
    "print(\"a[mask]=\" + str(b))\n",
    "\n",
    "a[a > 2] = -1         # 同時更改多個True索引\n",
    "print()\n",
    "print(\"a[a>2]=-1->\")\n",
    "print(a)"
   ]
  },
  {
   "cell_type": "markdown",
   "metadata": {},
   "source": [
    "## 改變陣列的形狀\n",
    "1. 廣播:讓不同形狀的陣列執行數學運算\n",
    "當一個小陣列和一個大陣列時，如果沒有廣播機制，我們需要自行先複製小陣列元素，\n",
    "將它擴充成與大陣列相同的形狀後，才能執行2個陣列的數學運算，\n",
    "NumPy廣播機制會自動幫我們擴充小陣列來執行運算\n",
    "\n",
    "2. 重新設定維度: reshape()\n",
    "\n",
    "3. 陣列平坦化: ravel()\n",
    "\n",
    "4. 轉置: .T (或 .transpose())\n",
    "\n",
    "4. 增加維度: newaxis "
   ]
  },
  {
   "cell_type": "code",
   "execution_count": 17,
   "metadata": {},
   "outputs": [
    {
     "name": "stdout",
     "output_type": "stream",
     "text": [
      "a=\n",
      "[[ 1  2  3]\n",
      " [ 4  5  6]\n",
      " [ 7  8  9]\n",
      " [10 11 12]]\n",
      "a 形狀: (4, 3)\n",
      "\n",
      "b=[1 0 1]\n",
      "b 形狀: (3,)\n",
      "\n",
      "a+b:\n",
      "[[ 2  2  4]\n",
      " [ 5  5  7]\n",
      " [ 8  8 10]\n",
      " [11 11 13]]\n"
     ]
    }
   ],
   "source": [
    "# 廣播\n",
    "import numpy as np\n",
    "\n",
    "a = np.array([[1,2,3],[4,5,6],[7,8,9],[10,11,12]])\n",
    "print(\"a=\")\n",
    "print(a)\n",
    "print(\"a 形狀: \" + str(a.shape))\n",
    "\n",
    "b = np.array([1,0,1])\n",
    "print()\n",
    "print(\"b=\" + str(b))\n",
    "print(\"b 形狀: \" + str(b.shape))\n",
    "\n",
    "print()\n",
    "c = a + b\n",
    "print('a+b:', c, sep ='\\n')"
   ]
  },
  {
   "cell_type": "code",
   "execution_count": 18,
   "metadata": {},
   "outputs": [
    {
     "name": "stdout",
     "output_type": "stream",
     "text": [
      "a=\n",
      "[[1 2 3]\n",
      " [4 5 6]]\n",
      "a.ravel()=[1 2 3 4 5 6]\n",
      "np.ravel(a)=[1 2 3 4 5 6]\n",
      "[[1 2 3]\n",
      " [4 5 6]]\n"
     ]
    }
   ],
   "source": [
    "# 陣列平坦化:將二維陣列平坦化成一維陣列, python提供兩種格式\n",
    "# ravel 英文意思為解開線團\n",
    "\n",
    "import numpy as np\n",
    "\n",
    "a = np.array([[1,2,3],[4,5,6]])\n",
    "print(\"a=\")\n",
    "print(a)\n",
    "\n",
    "b = a.ravel()\n",
    "print(\"a.ravel()=\" + str(b))\n",
    "b = np.ravel(a)\n",
    "print(\"np.ravel(a)=\" + str(b))"
   ]
  },
  {
   "cell_type": "code",
   "execution_count": 19,
   "metadata": {},
   "outputs": [
    {
     "name": "stdout",
     "output_type": "stream",
     "text": [
      "a=[1 2 3 4 5 6]\n",
      "b=np.reshape(a,(3,2))->\n",
      "[[1 2]\n",
      " [3 4]\n",
      " [5 6]]\n",
      "\n",
      "c=b.T->\n",
      "[[1 3 5]\n",
      " [2 4 6]]\n",
      "\n",
      "d=b.transpose()->\n",
      "[[1 3 5]\n",
      " [2 4 6]]\n",
      "\n",
      "e=np.transpose(b)->\n",
      "[[1 3 5]\n",
      " [2 4 6]]\n"
     ]
    }
   ],
   "source": [
    "# .T\n",
    "\n",
    "import numpy as np\n",
    "\n",
    "a = np.array([1,2,3,4,5,6])\n",
    "print(\"a=\" + str(a))\n",
    "\n",
    "b = np.reshape(a,(3,2))\n",
    "print(\"b=np.reshape(a,(3,2))->\")\n",
    "print(b)\n",
    "\n",
    "print()\n",
    "c = b.T\n",
    "print(\"c=b.T->\")\n",
    "print(c)\n",
    "\n",
    "print()\n",
    "d = b.transpose()\n",
    "print(\"d=b.transpose()->\")\n",
    "print(d)\n",
    "\n",
    "print()\n",
    "e = np.transpose(b)\n",
    "print(\"e=np.transpose(b)->\")\n",
    "print(e)"
   ]
  },
  {
   "cell_type": "code",
   "execution_count": 22,
   "metadata": {},
   "outputs": [
    {
     "name": "stdout",
     "output_type": "stream",
     "text": [
      "a=[1 2 3]\n",
      "\n",
      "b=a[:,np.newaxis]->\n",
      "[[1]\n",
      " [2]\n",
      " [3]]\n",
      "shape: (3, 1)\n",
      "\n",
      "c=a[np.newaxis,:]->\n",
      "[[1 2 3]]\n",
      "shape: (1, 3)\n"
     ]
    }
   ],
   "source": [
    "# newaxis 增加維度\n",
    "\n",
    "import numpy as np\n",
    "\n",
    "a = np.array([1,2,3])\n",
    "print(\"a=\" + str(a))\n",
    "\n",
    "print()\n",
    "b = a[:, np.newaxis]\n",
    "print(\"b=a[:,np.newaxis]->\")\n",
    "print(b)\n",
    "print('shape:', b.shape)\n",
    "\n",
    "print()\n",
    "c = a[np.newaxis, :]\n",
    "print(\"c=a[np.newaxis,:]->\")\n",
    "print(c)\n",
    "print('shape:', c.shape)"
   ]
  },
  {
   "cell_type": "code",
   "execution_count": 23,
   "metadata": {},
   "outputs": [
    {
     "name": "stdout",
     "output_type": "stream",
     "text": [
      "a=[1 2 3]\n",
      "b=a.copy()->[1 2 3]\n",
      "b.fill(4)=[4 4 4]\n",
      "c=np.concatenate((a,b))->[1 2 3 4 4 4]\n"
     ]
    }
   ],
   "source": [
    "# 陣列形狀與內容操作 –陣列複製、填滿值和連接陣列\n",
    "\n",
    "import numpy as np\n",
    "\n",
    "a = np.array([1,2,3])\n",
    "print(\"a=\" + str(a))\n",
    "\n",
    "b = a.copy()   # 不使用 b = a，a和b會指向同一個位址，修改內容時，兩者的內容都會一起改變\n",
    "print(\"b=a.copy()->\" + str(b))\n",
    "b.fill(4)\n",
    "print(\"b.fill(4)=\" + str(b))\n",
    "c = np.concatenate((a,b))\n",
    "print(\"c=np.concatenate((a,b))->\" + str(c)) # \n"
   ]
  },
  {
   "cell_type": "code",
   "execution_count": 24,
   "metadata": {},
   "outputs": [
    {
     "name": "stdout",
     "output_type": "stream",
     "text": [
      "[5 2 3]\n"
     ]
    }
   ],
   "source": [
    "a = np.array([1,2,3])\n",
    "b = a    # 用這種方式設定，a和b會指向同一個位址，修改內容時，兩者的內容都會一起改變，所以若是一般的複製，會使用 b = a.copy()\n",
    "b[0] = 5\n",
    "print(a)"
   ]
  },
  {
   "cell_type": "code",
   "execution_count": null,
   "metadata": {
    "collapsed": true
   },
   "outputs": [],
   "source": []
  },
  {
   "cell_type": "code",
   "execution_count": 23,
   "metadata": {},
   "outputs": [
    {
     "name": "stdout",
     "output_type": "stream",
     "text": [
      "c=np.concatenate((a,b))->\n",
      "[[1 2]\n",
      " [3 4]\n",
      " [5 6]\n",
      " [7 8]]\n",
      "c=np.concatenate((a,b), axis=0)->\n",
      "[[1 2]\n",
      " [3 4]\n",
      " [5 6]\n",
      " [7 8]]\n",
      "c=np.concatenate((a,b), axis=1)->\n",
      "[[1 2 5 6]\n",
      " [3 4 7 8]]\n"
     ]
    }
   ],
   "source": [
    "# 使用np.concatenate()函數連接多個二維陣列時，\n",
    "# 我們可以指定參數axis軸的連接方向，參數值0是直向，可以連接在二維陣列的下方；值1是橫向，預設為0\n",
    "\n",
    "import numpy as np\n",
    "\n",
    "a = np.array([[1,2],[3,4]])\n",
    "b = np.array([[5,6],[7,8]])\n",
    "\n",
    "c = np.concatenate((a,b))\n",
    "print(\"c=np.concatenate((a,b))->\")\n",
    "print(c)\n",
    "c = np.concatenate((a,b), axis=0)\n",
    "print(\"c=np.concatenate((a,b), axis=0)->\")\n",
    "print(c)\n",
    "c = np.concatenate((a,b), axis=1)\n",
    "print(\"c=np.concatenate((a,b), axis=1)->\")\n",
    "print(c)"
   ]
  },
  {
   "cell_type": "code",
   "execution_count": null,
   "metadata": {
    "collapsed": true
   },
   "outputs": [],
   "source": []
  },
  {
   "cell_type": "markdown",
   "metadata": {},
   "source": [
    "## 陣列的運算"
   ]
  },
  {
   "cell_type": "markdown",
   "metadata": {},
   "source": [
    "### universal function (簡稱 ufunc) universal函式\n",
    "\n",
    "* 意義：NUmpy提供對陣列中全部元素進行運算，並有回傳功能的函式\n",
    "* 例如：np.sum(), np.square(), np.sin()...\n",
    "\n",
    "* 註：使用以下方法，在type中可以看到是否屬於ufunc\n",
    "    * numpy.函式名稱?\n"
   ]
  },
  {
   "cell_type": "code",
   "execution_count": 11,
   "metadata": {},
   "outputs": [],
   "source": [
    "import numpy as np\n",
    "\n",
    "np.sin?"
   ]
  },
  {
   "cell_type": "code",
   "execution_count": 3,
   "metadata": {},
   "outputs": [
    {
     "name": "stdout",
     "output_type": "stream",
     "text": [
      "[[ 6  9 12]\n",
      " [15 18 21]]\n"
     ]
    }
   ],
   "source": [
    "# 陣列與常數的運算\n",
    "\n",
    "import numpy as np\n",
    "a=np.array([[3,6,9],[12,15,18]])\n",
    "b = a +3\n",
    "print(b)"
   ]
  },
  {
   "cell_type": "code",
   "execution_count": 42,
   "metadata": {},
   "outputs": [
    {
     "name": "stdout",
     "output_type": "stream",
     "text": [
      "a:\n",
      " [[ 2  4  6]\n",
      " [ 8 10 12]]\n",
      "\n",
      "b:\n",
      " [[1 2 3]\n",
      " [4 5 6]]\n",
      "\n",
      "a+b:\n",
      " [[ 3  6  9]\n",
      " [12 15 18]]\n",
      "\n",
      "a-b:\n",
      " [[1 2 3]\n",
      " [4 5 6]]\n",
      "\n",
      "a*b:\n",
      " [[ 2  8 18]\n",
      " [32 50 72]]\n",
      "\n",
      "a/b:\n",
      " [[ 2.  2.  2.]\n",
      " [ 2.  2.  2.]]\n"
     ]
    }
   ],
   "source": [
    "#兩個陣列的加減乘除法 (*非矩陣乘法*)\n",
    "import numpy as np\n",
    "a=np.array([[2,4,6],[8,10,12]])\n",
    "b=np.arange(1,7).reshape((2,3)) \n",
    "print(\"a:\\n\", a)\n",
    "print(\"\\nb:\\n\", b)\n",
    "print(\"\\na+b:\\n\", a+b)\n",
    "print(\"\\na-b:\\n\", a-b)\n",
    "print(\"\\na*b:\\n\", a*b)\n",
    "print(\"\\na/b:\\n\", a/b)"
   ]
  },
  {
   "cell_type": "code",
   "execution_count": 47,
   "metadata": {},
   "outputs": [
    {
     "name": "stdout",
     "output_type": "stream",
     "text": [
      "[[  4  16  36]\n",
      " [ 64 100 144]]\n",
      "\n",
      "[[False  True  True]\n",
      " [ True  True  True]]\n"
     ]
    }
   ],
   "source": [
    "import numpy as np\n",
    "a=np.array([[2,4,6],[8,10,12]])\n",
    "a = a ** 2  # 平方\n",
    "print(a)\n",
    "\n",
    "print()\n",
    "print(a>10)"
   ]
  },
  {
   "cell_type": "code",
   "execution_count": 43,
   "metadata": {},
   "outputs": [
    {
     "name": "stdout",
     "output_type": "stream",
     "text": [
      "[[ 2  4  6]\n",
      " [ 8 10 12]]\n",
      "[[0 3]\n",
      " [1 4]\n",
      " [2 5]]\n",
      "[[ 16  52]\n",
      " [ 34 124]]\n"
     ]
    }
   ],
   "source": [
    "# 矩陣乘法 numpy.dot()\n",
    "import numpy as np\n",
    "a=np.array([[2,4,6],[8,10,12]])\n",
    "b=np.arange(6).reshape((2,3)) \n",
    "print(a)\n",
    "print(b.T) # transpose\n",
    "print(np.dot(a,b.T))"
   ]
  },
  {
   "cell_type": "code",
   "execution_count": 3,
   "metadata": {},
   "outputs": [
    {
     "name": "stdout",
     "output_type": "stream",
     "text": [
      "[[ 3  6  9]\n",
      " [12 15 18]]\n",
      "\n",
      "sum(a): 63\n",
      "sum(a, axis=1): [18 45]\n",
      "sum(a, axis=0): [15 21 27]\n",
      "[18 45]\n"
     ]
    }
   ],
   "source": [
    "# 我們可以指定參數axis軸的連接方向，參數值0是直向，可以連接在二維陣列的下方；值1是橫向\n",
    "import numpy as np\n",
    "a=np.array([[3,6,9],[12,15,18]])\n",
    "\n",
    "print(a)\n",
    "print()\n",
    "print(\"sum(a):\", np.sum(a))\n",
    "print(\"sum(a, axis=1):\",np.sum(a, axis=1))\n",
    "\n",
    "print(\"sum(a, axis=0):\",np.sum(a, axis=0))\n",
    "\n",
    "print(a.sum(axis = 1))"
   ]
  },
  {
   "cell_type": "code",
   "execution_count": null,
   "metadata": {
    "collapsed": true
   },
   "outputs": [],
   "source": [
    "concatenate() 可以合併兩個陣列或加入元素"
   ]
  },
  {
   "cell_type": "code",
   "execution_count": 51,
   "metadata": {},
   "outputs": [
    {
     "name": "stdout",
     "output_type": "stream",
     "text": [
      "[ 2  4  6  8 10 12]\n",
      "\n",
      "[0 1 2 3 4 5 6 7 8 9]\n",
      "\n",
      "[ 2  4  6  8 10 12  0  1  2  3  4  5  6  7  8  9]\n",
      "\n",
      "[ 2  4  6  8 10 12 10 20]\n"
     ]
    }
   ],
   "source": [
    "import numpy as np\n",
    "a = np.array([2,4,6,8,10,12])\n",
    "b = np.arange(10)\n",
    "c = np.concatenate((a,b))\n",
    "d = np.concatenate((a,[10,20]))\n",
    "print(a,b,c,d, sep=\"\\n\\n\")"
   ]
  },
  {
   "cell_type": "code",
   "execution_count": 30,
   "metadata": {},
   "outputs": [
    {
     "name": "stdout",
     "output_type": "stream",
     "text": [
      "[[1 1 1]\n",
      " [2 2 2]]\n",
      "[1 1 1 2 2 2]\n",
      "[1 1 1 2 2 2]\n"
     ]
    }
   ],
   "source": [
    "# Numpy array 合併\n",
    "\n",
    "import numpy as np\n",
    "A = np.array([1,1,1])\n",
    "B = np.array([2,2,2])\n",
    "\n",
    "print(np.vstack((A,B))) #vertical\n",
    "\n",
    "print(np.hstack((A,B))) #horizontal, 和np.concatenate((A, B), axis=0)一樣\n",
    "\n",
    "c = np.concatenate((A, B), axis=0)\n",
    "print(c)"
   ]
  },
  {
   "cell_type": "markdown",
   "metadata": {},
   "source": [
    "## numpy的亂數\n",
    "\n",
    "* 格式為： numpy.random.亂數的方法"
   ]
  },
  {
   "cell_type": "markdown",
   "metadata": {
    "collapsed": true
   },
   "source": [
    "* seed(int) : 指定亂數函數的種子數，這是整數值，同一個種子數會產生相同的亂數序列\n",
    " * seed(5)\n",
    "* random() : 產生0.0~1.0之間的亂數，如 0.7298076072029743\n",
    " * random(5):產生0.0~1.0之間的亂數5個，形成5個元素的串列，如[ 0.58607119  0.37147243  0.05337405  0.49300567  0.10304672]\n",
    " * random((3,4)))：產生二維陣列的亂數\n",
    "\n",
    "* randint(min,max,size) : 產生min~max之間的整數亂數，不含max，如果有第3個參數可以產生此形式的陣列\n",
    " * randint(5, 10)：產生5~10之間的整數亂數，不含10\n",
    " * randint(5, 10, 6)：產生產生5到10(不含)的整數6個的陣列　[8 7 6 8 6 6]\n",
    " * randint(1, 101, (3,4))：產生5到10(不含)的整數3*4個的二維陣列\n",
    "<pre>\n",
    "[[ 52  61 100  23]\n",
    " [ 18  76   5  85]\n",
    " [ 99  96  93  57]] </pre>\n",
    " \n",
    "* rand()： 可以產生亂數值或是多維的陣列\n",
    " * rand()：產生0至1之間的小數亂數，例如　0.9760298522559884\n",
    " * rand(5)： 5個亂數值的串列，例如：[ 0.64355233  0.06190279  0.0139926   0.49136906  0.18873564]\n",
    " * rand(3,2,4)：三維的亂數\n",
    "<pre>\n",
    "[[[ 0.03954012  0.44242043  0.14827974  0.56508804]\n",
    "  [ 0.81026024  0.35193408  0.67416147  0.3857823 ]]\n",
    "\n",
    " [[ 0.75199775  0.68688449  0.11550551  0.74191692]\n",
    "  [ 0.59480112  0.6741724   0.83223916  0.07394322]]\n",
    "\n",
    " [[ 0.56966074  0.50914309  0.80103979  0.99366129]\n",
    "  [ 0.57323325  0.15629903  0.39392062  0.98063935]]] </pre>\n",
    "\n",
    "* np.random.randn(): 類似rand()，可以產生標準常態分佈的樣本資料\n",
    "* np.random.normal(loc=xx, scale=xx, size=xx)：功能如同.randn()，但是可以產生各種常態分布的資料，且可以產生亂數的陣列 (loc 為平均數，預設為0，scale為標準差，預設為1，xx表示自由輸入的數字）\n",
    " * np.random.normal(10,3,5)  # 產生5個平均數為 10，標準差為 3 的常態分布的亂數\n",
    " * np.random.normal(10,3,(2,4)) # 產生二維陣列平均數為 10，標準差為 3 的常態分布的亂數 （共有2*4個）\n",
    " \n",
    "* np.random.choice()\n",
    "    * 参数意思分别 是从a 中以概率P，随机选择3个, p没有指定的时候相当于是一致的分布，replace = True 表示放回再抽\n",
    "    * a = list(range(1, 7))\n",
    "    * print(a)\n",
    "    * a1 = np.random.choice(a, size=3, replace=False, p=None)\n",
    "* np.random.shuffle(串列) \n",
    "    * 將串列打亂\n",
    "\n",
    "原文網址：https://kknews.cc/zh-tw/other/29er599.html\n"
   ]
  },
  {
   "cell_type": "code",
   "execution_count": 68,
   "metadata": {},
   "outputs": [
    {
     "name": "stdout",
     "output_type": "stream",
     "text": [
      "throws1: 1\n",
      "throws2: 0\n",
      "throws3: [1 1 0 0 1 1 1 0 0 1]\n",
      "throws4: [1 0 1 0 0 1 0 1 0 1]\n",
      "throws5: [[0 1 1 0]\n",
      " [0 0 1 0]\n",
      " [0 0 0 0]]\n"
     ]
    }
   ],
   "source": [
    "# random.randint() 與 numpy.random.randint()之差異\n",
    "import numpy as np\n",
    "import random\n",
    "\n",
    "throws1 = np.random.randint(0, 2)  # exclude 2\n",
    "throws2 = random.randint(0,2)  # include 2\n",
    "\n",
    "throws3 = np.random.randint(low=0, high=2, size=10) # 100 random numbers\n",
    "throws4 = np.random.randint(0, 2, 10)  # 10 random numbers, no argument names\n",
    "throws5 = np.random.randint(0, 2, (3,4))\n",
    "print(\"throws1:\", throws1)\n",
    "print(\"throws2:\", throws2)\n",
    "print(\"throws3:\", throws3)\n",
    "print(\"throws4:\", throws4)\n",
    "print(\"throws5:\", throws5)"
   ]
  },
  {
   "cell_type": "code",
   "execution_count": 48,
   "metadata": {},
   "outputs": [
    {
     "name": "stdout",
     "output_type": "stream",
     "text": [
      "0.44521689656716035\n",
      "\n",
      "[ 0.64355233  0.06190279  0.0139926   0.49136906  0.18873564]\n",
      "[[[ 0.03954012  0.44242043  0.14827974  0.56508804]\n",
      "  [ 0.81026024  0.35193408  0.67416147  0.3857823 ]]\n",
      "\n",
      " [[ 0.75199775  0.68688449  0.11550551  0.74191692]\n",
      "  [ 0.59480112  0.6741724   0.83223916  0.07394322]]\n",
      "\n",
      " [[ 0.56966074  0.50914309  0.80103979  0.99366129]\n",
      "  [ 0.57323325  0.15629903  0.39392062  0.98063935]]]\n"
     ]
    }
   ],
   "source": [
    "import numpy as np\n",
    "print(np.random.rand())\n",
    "print()\n",
    "\n",
    "print(np.random.rand(5)) # 5個亂數值的串列\n",
    "print()\n",
    "\n",
    "print(np.random.rand(3,2,4))  # 三維的亂數"
   ]
  },
  {
   "cell_type": "code",
   "execution_count": 38,
   "metadata": {},
   "outputs": [
    {
     "name": "stdout",
     "output_type": "stream",
     "text": [
      "0.7298076072029743\n",
      "\n",
      "[ 0.58607119  0.37147243  0.05337405  0.49300567  0.10304672]\n"
     ]
    }
   ],
   "source": [
    "import numpy as np\n",
    "a = np.random.random()\n",
    "b = np.random.random(5)\n",
    "print(a, b, c, sep = '\\n\\n')"
   ]
  },
  {
   "cell_type": "code",
   "execution_count": 73,
   "metadata": {},
   "outputs": [
    {
     "name": "stdout",
     "output_type": "stream",
     "text": [
      "0.3367724725390667 0.5269343749958971\n",
      "6 46\n",
      "\n",
      "[8 7 6 8 6 6]\n",
      "\n",
      "[[ 52  61 100  23]\n",
      " [ 18  76   5  85]\n",
      " [ 99  96  93  57]]\n"
     ]
    }
   ],
   "source": [
    "import numpy as np\n",
    "\n",
    "np.random.seed(293423)\n",
    "\n",
    "v1 = np.random.random()\n",
    "v2 = np.random.random()\n",
    "print(v1, v2)\n",
    "v3 = np.random.randint(5, 10)  #產生5到10(不含)的整數\n",
    "v4 = np.random.randint(1, 101)\n",
    "print(v3, v4)\n",
    "\n",
    "print()\n",
    "v5 = np.random.randint(5, 10, 6) # 產生5到10(不含)的整數6個的陣列\n",
    "v6 = np.random.randint(1, 101, (3,4))#  產生5到10(不含)的整數3*4個的二維陣列\n",
    "print(v5)\n",
    "print()\n",
    "print(v6)\n",
    "?v6"
   ]
  },
  {
   "cell_type": "code",
   "execution_count": 52,
   "metadata": {},
   "outputs": [
    {
     "name": "stdout",
     "output_type": "stream",
     "text": [
      "0.6339479026692069\n",
      "\n",
      "[-0.93049591  1.04473594  1.64123031  2.23609392  1.30637821]\n",
      "\n",
      "[[[-0.3213905   0.78786166  0.54664495 -0.55368813]\n",
      "  [ 0.60357311 -1.66238595 -1.9677313  -0.83790247]]\n",
      "\n",
      " [[ 0.90846026 -0.84352299  0.51472288 -0.18172246]\n",
      "  [ 0.49251474 -0.45826979  1.71923274 -0.58883365]]\n",
      "\n",
      " [[-0.43799015  0.27047407  0.44568088 -0.78659052]\n",
      "  [ 0.14839301  0.89480487 -0.5505088  -0.25509628]]]\n"
     ]
    }
   ],
   "source": [
    "import numpy as np\n",
    "print(np.random.rand())\n",
    "print()\n",
    "\n",
    "print(np.random.randn(5)) # 產生標準常態分佈的樣本資料的5個亂數值的串列\n",
    "print()\n",
    "\n",
    "print(np.random.randn(3,2,4))  # 三維的亂數"
   ]
  },
  {
   "cell_type": "code",
   "execution_count": 51,
   "metadata": {
    "scrolled": true
   },
   "outputs": [
    {
     "name": "stdout",
     "output_type": "stream",
     "text": [
      "np.random.rand(5)=\n",
      "[ 0.8068195   0.12312116  0.41897774  0.83926102  0.08700079]\n",
      "\n",
      "np.random.rand(3,2)=\n",
      "[[ 0.58711123  0.32912915]\n",
      " [ 0.58584619  0.41105227]\n",
      " [ 0.47067953  0.58013819]]\n",
      "\n",
      "np.random.randint(5,10,size=5)\n",
      "[5 5 5 8 7]\n",
      "\n",
      "np.random.randint(5,10,size=(2,3))\n",
      "[[8 7 9]\n",
      " [5 7 7]]\n",
      "\n",
      "np.random.randint(5,10,size=(2,3))\n",
      "[[7 9 5]\n",
      " [9 8 8]]\n"
     ]
    }
   ],
   "source": [
    "import numpy as np\n",
    "\n",
    "a = np.random.rand(5)\n",
    "print(\"np.random.rand(5)=\")\n",
    "print(a)\n",
    "\n",
    "print()\n",
    "b = np.random.rand(3, 2)  \n",
    "print(\"np.random.rand(3,2)=\")\n",
    "print(b)\n",
    "\n",
    "print()\n",
    "c = np.random.randint(5, 10, size=5)\n",
    "print(\"np.random.randint(5,10,size=5)\")  # size =  可以省略\n",
    "print(c)\n",
    "\n",
    "print()\n",
    "d = np.random.randint(5, 10, size=(2,3))\n",
    "print(\"np.random.randint(5,10,size=(2,3))\")  # size =  可以省略，如下面的敘述\n",
    "print(d)\n",
    "\n",
    "print()\n",
    "d = np.random.randint(5, 10, (2,3))\n",
    "print(\"np.random.randint(5,10,size=(2,3))\") \n",
    "print(d)"
   ]
  },
  {
   "cell_type": "code",
   "execution_count": 26,
   "metadata": {},
   "outputs": [
    {
     "name": "stdout",
     "output_type": "stream",
     "text": [
      "[ 0.5         0.70710678  0.8660254 ]\n",
      "[ 0.8660254   0.70710678  0.5       ]\n",
      "[ 0.57735027  1.          1.73205081]\n"
     ]
    }
   ],
   "source": [
    "# 三角函式\n",
    "\n",
    "import numpy as np\n",
    "\n",
    "a = np.array([30,45,60]) \n",
    "\n",
    "print(np.sin(a*np.pi/180)) \n",
    "print(np.cos(a*np.pi/180)) \n",
    "print(np.tan(a*np.pi/180)) "
   ]
  },
  {
   "cell_type": "code",
   "execution_count": 59,
   "metadata": {},
   "outputs": [
    {
     "name": "stdout",
     "output_type": "stream",
     "text": [
      "a=[   1.       5.55   123.       0.567   25.532]\n",
      "[   1.    6.  123.    1.   26.]\n",
      "[   1.     5.6  123.     0.6   25.5]\n",
      "[   0.   10.  120.    0.   30.]\n",
      "a=[ -1.7   1.5  -0.2   0.6  10. ]\n",
      "floor()=[ -2.   1.  -1.   0.  10.]\n",
      "ceil()=[ -1.   2.  -0.   1.  10.]\n"
     ]
    }
   ],
   "source": [
    "#  around()函數是四捨五入函數，第2個參數指定四捨五入是哪一個十進位值的位數，預設值是0（沒有小數），1是小數點下一位；-1是10進位\n",
    "# floor() 和　ceil()只有一個引數\n",
    "\n",
    "import numpy as np\n",
    "\n",
    "a = np.array([1.0,5.55, 123, 0.567, 25.532]) \n",
    "print(\"a=\" + str(a))\n",
    "\n",
    "print(np.around(a))\n",
    "print(np.around(a, 1))\n",
    "print(np.around(a, -1))\n",
    "\n",
    "a = np.array([-1.7, 1.5, -0.2, 0.6, 10]) \n",
    "print(\"a=\" + str(a))\n",
    "\n",
    "b = np.floor(a)\n",
    "\n",
    "print(\"floor()=\" + str(b))\n",
    "b = np.ceil(a)\n",
    "print(\"ceil()=\" + str(b))"
   ]
  },
  {
   "cell_type": "code",
   "execution_count": null,
   "metadata": {
    "collapsed": true
   },
   "outputs": [],
   "source": []
  },
  {
   "cell_type": "markdown",
   "metadata": {},
   "source": [
    "## NumPy的通用函式"
   ]
  },
  {
   "cell_type": "markdown",
   "metadata": {},
   "source": [
    "### NumPy針對陣列提供許多通用函式，例如：\n",
    "* add(x1, x2) \n",
    "* subtract(x1, x2) \n",
    "* multiply(x1, x2) \n",
    "* divide(x1, x2) \n",
    "* mod(x1, x2) \n",
    "* power(x1, x2)\n",
    "* isfinite(x) \n",
    "* isinf(x) \n",
    "* isnan(x) \n",
    "* sign(x)\n",
    "* negative(x) \n",
    "* absolute(x) \n",
    "* sum(x) \n",
    "* max(x) \n",
    "* min(x) \n",
    "\n",
    "* rint(x) \n",
    "* floor(x) \n",
    "* ceil(x) \n",
    "* sqrt(x) \n",
    "* square(x) \n",
    "* exp(x) \n",
    "* exp2(x) \n",
    "* log(x) \n",
    "* log2(x) \n",
    "* log10(x) \n",
    "* cos(x)、sin(x)、tan(x)、acos(x)、asin(x)、atan(x) 等三角函式\n",
    "* mean(x) \n",
    "    * 含遺漏值的平均數：np.mean(dataframe物件或欄位)\n",
    "    * 不含遺漏值的平均數： np.nanmean(dataframe物件或欄位)\n",
    "* median(x)  中位數\n",
    "    * 含遺漏值的中數：np.median(dataframe物件或欄位)\n",
    "    * 不含遺漏值的中數： np.nanmedian(dataframe物件或欄位)\n",
    "* std(x)\n",
    "    * 分為母數推估和樣本的標準差兩種，參見統計課程中的講義\n"
   ]
  },
  {
   "cell_type": "raw",
   "metadata": {},
   "source": [
    "##### numpy 平均數的用法\n",
    "\n",
    "import numpy as np\n",
    "a = [[1,2,3], [4,5,6]]\n",
    "print(np.mean(a))\n",
    "print(np.mean(a, axis = 0))\n",
    "print(np.mean(a, 0))\n",
    "print(np.mean(a, axis = 1))\n",
    "print(np.mean(a, 1))"
   ]
  },
  {
   "cell_type": "markdown",
   "metadata": {},
   "source": [
    "## 檔案儲存與載入"
   ]
  },
  {
   "cell_type": "code",
   "execution_count": null,
   "metadata": {
    "collapsed": true
   },
   "outputs": [],
   "source": [
    "# 將陣列儲存成檔案\n"
   ]
  },
  {
   "cell_type": "code",
   "execution_count": 24,
   "metadata": {
    "collapsed": true
   },
   "outputs": [],
   "source": [
    "# 使用二進位檔寫入， 使用save\n",
    "\n",
    "import numpy as np\n",
    "\n",
    "a = np.arange(10)\n",
    "outputfile = \"Example.npy\"\n",
    "with open(outputfile, 'wb') as fp:\n",
    "    np.save(fp, a)"
   ]
  },
  {
   "cell_type": "code",
   "execution_count": 60,
   "metadata": {
    "collapsed": true
   },
   "outputs": [],
   "source": [
    "#  設定分隔字元，delimiter=','\n",
    "# savetxt 儲存成 CSV格式\n",
    "import numpy as np\n",
    "\n",
    "a = np.array([[1,2,3],[4,5,6]])\n",
    "outputfile = \"Example.out\"\n",
    "np.savetxt(outputfile, a, delimiter=',')"
   ]
  },
  {
   "cell_type": "code",
   "execution_count": null,
   "metadata": {
    "collapsed": true
   },
   "outputs": [],
   "source": [
    "# Example.out\n",
    "1.000000000000000000e+00,2.000000000000000000e+00,3.000000000000000000e+00\n",
    "4.000000000000000000e+00,5.000000000000000000e+00,6.000000000000000000e+00"
   ]
  },
  {
   "cell_type": "code",
   "execution_count": 63,
   "metadata": {},
   "outputs": [
    {
     "name": "stdout",
     "output_type": "stream",
     "text": [
      "[[1 2 3]\n",
      " [4 5 6]]\n"
     ]
    }
   ],
   "source": [
    "#  設定分隔字元，delimiter=','\n",
    "# savetxt 儲存成 CSV格式\n",
    "import numpy as np\n",
    "\n",
    "a = np.array([[1,2,3],[4,5,6]], dtype = int)\n",
    "outputfile = \"Example.out\"\n",
    "np.savetxt(outputfile, a, delimiter=',')\n",
    "print(a)"
   ]
  },
  {
   "cell_type": "code",
   "execution_count": null,
   "metadata": {
    "collapsed": true
   },
   "outputs": [],
   "source": [
    "# Example.out\n",
    "1.000000000000000000e+00,2.000000000000000000e+00,3.000000000000000000e+00\n",
    "4.000000000000000000e+00,5.000000000000000000e+00,6.000000000000000000e+00"
   ]
  },
  {
   "cell_type": "code",
   "execution_count": null,
   "metadata": {
    "collapsed": true
   },
   "outputs": [],
   "source": [
    "# 使用二進位檔讀入， 使用load\n",
    "import numpy as np\n",
    "\n",
    "outputfile = \"Example.npy\"\n",
    "with open(outputfile, 'rb') as fp:\n",
    "    a = np.load(fp)\n",
    "print(a)"
   ]
  },
  {
   "cell_type": "code",
   "execution_count": 68,
   "metadata": {},
   "outputs": [
    {
     "name": "stdout",
     "output_type": "stream",
     "text": [
      "[[ 1.  2.  3.]\n",
      " [ 4.  5.  6.]]\n",
      "\n",
      "[[1 2 3]\n",
      " [4 5 6]]\n"
     ]
    }
   ],
   "source": [
    "# 使用CSV檔讀入， 使用loadtxt\n",
    "import numpy as np\n",
    "\n",
    "outputfile = \"Example.out\"\n",
    "a = np.loadtxt(outputfile, delimiter=',')\n",
    "print(a)\n",
    "print()\n",
    "\n",
    "b = a.astype(int)\n",
    "print(b)"
   ]
  },
  {
   "cell_type": "code",
   "execution_count": null,
   "metadata": {
    "collapsed": true
   },
   "outputs": [],
   "source": [
    "參考書目：\n",
    "\n",
    "陳允傑（2018）。Python資料科學與人工智慧應用實務。 台北：旗標。"
   ]
  }
 ],
 "metadata": {
  "kernelspec": {
   "display_name": "Python 3",
   "language": "python",
   "name": "python3"
  },
  "language_info": {
   "codemirror_mode": {
    "name": "ipython",
    "version": 3
   },
   "file_extension": ".py",
   "mimetype": "text/x-python",
   "name": "python",
   "nbconvert_exporter": "python",
   "pygments_lexer": "ipython3",
   "version": "3.7.9"
  }
 },
 "nbformat": 4,
 "nbformat_minor": 2
}
